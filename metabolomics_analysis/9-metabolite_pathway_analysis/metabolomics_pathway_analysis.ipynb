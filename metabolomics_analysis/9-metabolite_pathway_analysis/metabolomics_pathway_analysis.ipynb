{
    "cells": [
        {
            "cell_type": "markdown",
            "metadata": {},
            "source": [
                "## Introduction\n",
                "In this workflow, we link the metabolites of interest to pathway data from WikiPathways, based on their HMDB identifier.\n"
            ]
        },
        {
            "cell_type": "code",
            "execution_count": null,
            "metadata": {},
            "outputs": [],
            "source": [
                "# Obtain Working Directory for step 8 to find processed data\n",
                "setwd('..')\n",
                "\n",
                "#Obtain data from step 8\n",
                "mSet_CD <- read.csv(\"8-significantly_changed_metabolites_analysis/output/mbxData_CD.csv\", na.strings=c(\"\", \"NA\"))\n",
                "mSet_UC <- read.csv(\"8-significantly_changed_metabolites_analysis/output/mbxData_UC.csv\", na.strings=c(\"\", \"NA\"))\n",
                "\n",
                "## Select a disorder to analyse (options; CD or UC)\n",
                "disorder <- \"CD\"\n",
                "\n",
                "if (disorder == \"CD\") {\n",
                "  mSet = mSet_CD \n",
                "  print(\"Selected disorder is Crohn's disease\")}else if(disorder == \"UC\"){ \n",
                "    mSet = mSet_UC\n",
                "    print(\"Selected disorder is Ulcerative Colitis\")}else{print(\"Disorder not Recognised\")}\n"
            ]
        },
        {
            "cell_type": "markdown",
            "metadata": {},
            "source": "## Find pathways based on relevant IDs column\n"
        },
        {
            "cell_type": "code",
            "execution_count": null,
            "metadata": {},
            "outputs": [],
            "source": [
                "if(!\"SPARQL\" %in% installed.packages()){\n",
                "  install.packages(\"SPARQL\")\n",
                "}\n",
                "library(SPARQL)\n",
                "##Connect to Endpoint WikiPathways\n",
                "endpointwp <- \"https://sparql.wikipathways.org/sparql\"\n",
                "## 1. Query metadata:\n",
                "queryMetadata <-\n",
                "\"SELECT DISTINCT ?dataset (str(?titleLit) as ?title) ?date ?license \n",
                "WHERE {\n",
                "   ?dataset a void:Dataset ;\n",
                "   dcterms:title ?titleLit ;\n",
                "   dcterms:license ?license ;\n",
                "   pav:createdOn ?date .\n",
                " }\"\n",
                " #below code should be performed first to handle the ssl certificate error\n",
                "options(RCurlOptions = list(cainfo = paste0( tempdir() , \"/cacert.pem\" ), ssl.verifypeer = FALSE))\n",
                "resultsMetadata <- SPARQL(endpointwp,queryMetadata,curl_args=list(useragent=R.version.string))\n",
                "showresultsMetadata <- resultsMetadata$results\n",
                "remove(queryMetadata, resultsMetadata)\n",
                "\n",
                "## Create a list of HMDB IDs according to filtering criteria from step 8.\n",
                "list_Relevant_HMDB_IDs <- list(mSet$relevant_ids)\n",
                "vector_HMDB <- unlist(list_Relevant_HMDB_IDs) #convert list to array, for traversing the data to a SPARQL query later on\n",
                "vector_HMDB <- vector_HMDB[!is.na(vector_HMDB)]\n",
                "##Add the HMDb prefix IRI in front of all IDs.\n",
                "query_HMDBs <- paste(\"ch:\", vector_HMDB, sep=\"\")\n",
                "##Merge the individual entries in the vector into one string, separated by a space\n",
                "string_HMDB <- paste(c(query_HMDBs), collapse=' ' )\n",
                "\n",
                "##TODO: add column with nr. of Metabolites in PW (to calculate PW impact)\n",
                "\n",
                "#For now, filter out Reactome PWs due to visualization issues in Cytoscape.\n",
                "item1 = \"PREFIX ch: <https://identifiers.org/hmdb/>\n",
                "PREFIX cur: <http://vocabularies.wikipathways.org/wp#Curation:>\n",
                "select distinct ?pathwayRes (str(?wpid) as ?pathway) (str(?title) as ?pathwayTitle) (count(distinct ?hmdbMetabolite) AS ?HMDBsInPWs) \n",
                "(GROUP_CONCAT(DISTINCT fn:substring(?hmdbMetabolite,30);separator=' ') AS ?includedHMDBs)\n",
                "where {\n",
                "VALUES ?hmdbMetabolite {\"\n",
                "item2 = \"}\n",
                " \n",
                " ?datanode\ta wp:Metabolite ;          \n",
                "           \twp:bdbHmdb  ?hmdbMetabolite ;\n",
                "    \t\tdcterms:isPartOf ?pathwayRes .\n",
                "    \t\t\n",
                " ?pathwayRes a wp:Pathway ;\n",
                "             wp:organismName 'Homo sapiens' ; \n",
                "    \t\tdcterms:identifier ?wpid ;\n",
                "    \t\tdc:title ?title .\n",
                "    \t\t\n",
                "  #?pathwayRes wp:ontologyTag cur:Reactome_Approved . \n",
                "  ?pathwayRes wp:ontologyTag cur:AnalysisCollection .   \t\t\n",
                "}\n",
                "ORDER BY DESC(?HMDBsInPWs)\"\n",
                "query_CombinePWs <- paste(item1,string_HMDB,item2)\n",
                "remove(item1, item2)\n",
                "\n",
                "results_CombinePWs <- SPARQL(endpointwp,query_CombinePWs,curl_args=list(useragent=R.version.string))\n",
                "showresults_CombinePWs <- results_CombinePWs$results\n",
                "remove(query_CombinePWs,results_CombinePWs)\n",
                "\n",
                "##Top pathway cuttoff threshold (can be defined by users)\n",
                "pathway_cutoff_metabolites = 10\n",
                "\n",
                "#Keep and print table within threshold (if less than threshold are found, print only those)\n",
                "if(nrow(showresults_CombinePWs) < pathway_cutoff_metabolites){\n",
                "print(showresults_CombinePWs[1:nrow(showresults_CombinePWs),c(2:4)])\n",
                "}else{\n",
                "  #delete rows below threshold\n",
                "  showresults_CombinePWs <- showresults_CombinePWs[-c((pathway_cutoff_metabolites+1):nrow(showresults_CombinePWs)),]\n",
                "  print(showresults_CombinePWs[1:5,c(2:4)])}\n",
                "\n",
                "remove(cleaned_string_HMDB, list_Relevant_HMDB_IDs, query_HMDBs)\n"
            ]
        },
        {
            "cell_type": "markdown",
            "metadata": {},
            "source": [
                "\n",
                "Retrieve additional relevant pathway data, for example protein and gene data\n"
            ]
        },
        {
            "cell_type": "code",
            "execution_count": null,
            "metadata": {},
            "outputs": [],
            "source": [
                "string_WP_IDs_list <- paste0(\"'\", showresults_CombinePWs$pathway ,\"'\")\n",
                "string_WP_IDs <- paste(c(string_WP_IDs_list), collapse=' ' )\n",
                "\n",
                "item1 = \"\n",
                "PREFIX ch: <https://identifiers.org/hmdb/>\n",
                "PREFIX cur: <http://vocabularies.wikipathways.org/wp#Curation:>\n",
                "select distinct ?pathwayRes (count(distinct ?metaboliteDatanode) AS ?TotalMetabolitesinPW) (GROUP_CONCAT(DISTINCT fn:substring(?hgnc,37);separator=' ') AS ?Proteins) (count(distinct ?hgnc) AS ?ProteinsInPWs)\n",
                "where {\n",
                "VALUES ?wpid {\n",
                "\"\n",
                "item2 = \"\n",
                "}\n",
                " \n",
                " ?metaboliteDatanode\ta wp:Metabolite ;\n",
                "                       dcterms:isPartOf ?pathwayRes .\n",
                " \n",
                " ?pathwayRes a wp:Pathway ;\n",
                "             wp:organismName 'Homo sapiens' ; \n",
                "    \t\t dcterms:identifier ?wpid ;\n",
                "    \t\t dc:title ?title ;\n",
                "             wp:ontologyTag cur:AnalysisCollection .   \n",
                "  OPTIONAL{  \t\t\n",
                " ?datanode2 wp:bdbHgncSymbol ?hgnc ;\n",
                "    \t\tdcterms:isPartOf ?pathwayRes .\n",
                "  }\n",
                "\t\t\n",
                "}\n",
                "\"\n",
                "query_CombinePWs_gene <- paste(item1,string_WP_IDs,item2)\n",
                "remove(item1, item2)\n",
                "\n",
                "results_CombinePWs_gene <- SPARQL(endpointwp,query_CombinePWs_gene,curl_args=list(useragent=R.version.string))\n",
                "showresults_CombinePWs_gene <- results_CombinePWs_gene$results\n",
                "remove(query_CombinePWs_gene,results_CombinePWs_gene)\n",
                "\n",
                "##Merge the two dataframes together:\n",
                "showresults_CombinePW_data <- merge(x = showresults_CombinePWs, y = showresults_CombinePWs_gene, by = \"pathwayRes\", all.x = TRUE)\n",
                "##Reorder data to fit previous format:\n",
                "showresults_CombinePW_data <- showresults_CombinePW_data[, c(1:4, 6:8, 5)]\n"
            ]
        },
        {
            "cell_type": "markdown",
            "metadata": {},
            "source": [
                "## Calculate the ORA score for each pathway, using the Fishers exact test.\n",
                "\n"
            ]
        },
        {
            "cell_type": "code",
            "execution_count": null,
            "metadata": {},
            "outputs": [],
            "source": [
                "##Based on: https://www.pathwaycommons.org/guide/primers/statistics/fishers_exact_test/\n",
                "\n",
                "#Create a dataframe to store the required numbers in.\n",
                "Contingency_table <- data.frame(matrix(ncol=5,nrow=0, dimnames=list(NULL, c(\"WP.ID\", \"x\", \"m\", \"n\", \"k\"))))\n",
                "counter = 1\n",
                "for (i in 1:nrow(showresults_CombinePW_data)) {\n",
                "   Contingency_table[counter,1] <- (showresults_CombinePW_data[i,2]) #WP.ID\n",
                "   Contingency_table[counter,2] <- (showresults_CombinePW_data[i,4]) ##x <- (number4) #Total differentially changed metabolites, also in a PW. (HMDBsInPWs)\n",
                "   Contingency_table[counter,3] <- (showresults_CombinePW_data[i,5]) ##m <- (number) #Total Metabolites in PW (TotalMetabolitesinPW)\n",
                "   Contingency_table[counter,4] <- (length(unique(mSet[,1])) - showresults_CombinePW_data[i,4]) ##n <- (number2) #Total Metabolites measured not in PW (DISTINCT all_HMDB - HMDBsInPWs)\n",
                "   Contingency_table[counter,5] <- length(unique(vector_HMDB)) ##k <- (number3) #Total differentially changed metabolites. (DISTINCT vector_HMDB)\n",
                "\n",
                "   counter <- counter + 1\n",
                "}\n",
                "\n",
                "# Calculate hypergeometric density p-value for all pathways.\n",
                "i <- 1:nrow(Contingency_table)\n",
                "probabilities <- dhyper(Contingency_table[i,2], Contingency_table[i,3], Contingency_table[i,4], Contingency_table[i,5], log = FALSE)\n",
                "\n",
                "pathwayAnalysis_results <- cbind(showresults_CombinePW_data[, c(2:4)], probabilities, showresults_CombinePW_data[, c(6,7)])\n",
                "colnames(pathwayAnalysis_results)[5] <- \"HGNCs\"\n",
                "colnames(pathwayAnalysis_results)[6] <- \"ProteinsInPWs\"\n",
                "\n",
                "##Sort PW results based on 1. highest amount of #HMDBs in PW, 2. lowest p-values,  3. highest amouny of proteins in PW (which might be relevant for transcriptomics analysis later)\n",
                "pathwayAnalysis_results_sorted <- pathwayAnalysis_results[  with(pathwayAnalysis_results, order(-HMDBsInPWs, probabilities, -ProteinsInPWs)),]\n",
                "\n",
                "print(pathwayAnalysis_results_sorted[1:5,])\n"
            ]
        },
        {
            "cell_type": "markdown",
            "metadata": {},
            "source": "## Export the pathway data:\n"
        },
        {
            "cell_type": "code",
            "execution_count": null,
            "metadata": {},
            "outputs": [],
            "source": [
                "##Save the data file\n",
                "nameDataFile <- paste0(\"output/mbxPWdata_\", disorder ,\".csv\")\n",
                "write.table(pathwayAnalysis_results_sorted, nameDataFile, sep =\",\", row.names = FALSE)\n"
            ]
        },
        {
            "cell_type": "markdown",
            "metadata": {},
            "source": [
                "\n",
                "## Print significantly changed metabolites which were not in a pathway, by ID and name:\n"
            ]
        },
        {
            "cell_type": "code",
            "execution_count": null,
            "metadata": {},
            "outputs": [],
            "source": [
                "##Find Missing Biomarkers (not part of any Human pathway model)\n",
                "item1 = \"PREFIX ch: <https://identifiers.org/hmdb/>\n",
                "SELECT DISTINCT ?HMDBMetabolite WHERE {\n",
                "  VALUES ?HMDBMetabolite {\"\n",
                "item2 = \"}\n",
                "  ?pathwayRes  a wp:Pathway ;\n",
                "             \twp:organismName 'Homo sapiens' .\n",
                "  \n",
                "  ?metabolite \ta wp:Metabolite ;\n",
                "                dcterms:identifier ?id ;\n",
                "                dcterms:isPartOf ?pathwayRes .\n",
                "  ?metabolite wp:bdbHmdb ?HMDBMetabolite.\n",
                "}\"\n",
                "queryMissingBiomarkers <- paste(item1,string_HMDB,item2)\n",
                "remove(item1,item2)\n",
                "resultsMissingBiomarkers <- SPARQL(endpointwp,queryMissingBiomarkers,curl_args=list(useragent=R.version.string))\n",
                "listMissingBiomarkers <- c(resultsMissingBiomarkers$results) #safe results as list for comparison.\n",
                "remove(queryMissingBiomarkers,resultsMissingBiomarkers)\n",
                "HMDBs_inPWs <- gsub(\"[<https://identifiers.org/hmdb/>]\", \"\", listMissingBiomarkers) #HMDB IDs IRI cleanup\n",
                "intersectingHMDB <- setdiff(vector_HMDB, HMDBs_inPWs)\n",
                "\n",
                "string_intersectingHMDB <- paste(c(intersectingHMDB), collapse=', ' )\n",
                "\n",
                "#Find names for missing Biomarkers based on HMDB ID (to help with data understanding and curation)\n",
                "missingNames <- list()\n",
                "for (j in 1:length(intersectingHMDB)){\n",
                "  for (i in 1:nrow(mSet)){\n",
                "    if(!is.na(mSet[i,5]) & mSet[i,5] == intersectingHMDB[j]){\n",
                "       missingNames[j] <- mSet[i,6]\n",
                "      }\n",
                "    else{next}\n",
                "  }\n",
                "}\n",
                "remove(i,j)\n",
                "#Save list on one string for reporting purposes\n",
                "string_missingNames <- do.call(paste, c(as.list(missingNames), sep = \", \"))\n",
                "#Print relevant information:\n",
                "if(length(intersectingHMDB) == 0 ){print(\"All relevant biomarkers are in a pathway!\")} else{\n",
                "  print(paste0(\"For the disorder \", disorder, \", \", length(intersectingHMDB), \" biomarkers are not in a pathway; with the following HMDB IDs: \" , string_intersectingHMDB, \"; with the following Database names: \", string_missingNames))}\n"
            ]
        },
        {
            "cell_type": "markdown",
            "metadata": {},
            "source": [
                "\n",
                "## Print session info:\n"
            ]
        },
        {
            "cell_type": "code",
            "execution_count": null,
            "metadata": {},
            "outputs": [],
            "source": [
                "##Print session info:\n",
                "sessionInfo()\n"
            ]
        },
        {
            "cell_type": "markdown",
            "metadata": {},
            "source": [
                "\n",
                "## Last, we create a Jupyter notebook file from this script:\n"
            ]
        },
        {
            "cell_type": "code",
            "execution_count": null,
            "metadata": {},
            "outputs": [],
            "source": [
                "#Jupyter Notebook file\n",
                "if(!\"devtools\" %in% installed.packages()) BiocManager::install(\"devtools\")\n",
                "devtools::install_github(\"mkearney/rmd2jupyter\", force=TRUE)\n",
                "library(devtools)\n",
                "library(rmd2jupyter)\n",
                "rmd2jupyter(\"metabolomics_pathway_analysis.Rmd\")\n",
                "\n",
                "##Clean up data\n",
                "remove(counter, i, probabilities, string_HMDB, vector_HMDB, Contingency_table, pathwayAnalysis_results, showresults_CombinePWs, showresultsMetadata)\n"
            ]
        }
    ],
    "metadata": {
        "anaconda-cloud": "",
        "kernelspec": {
            "display_name": "R",
            "langauge": "R",
            "name": "ir"
        },
        "language_info": {
            "codemirror_mode": "r",
            "file_extension": ".r",
            "mimetype": "text/x-r-source",
            "name": "R",
            "pygments_lexer": "r",
            "version": "3.4.1"
        }
    },
    "nbformat": 4,
    "nbformat_minor": 1
}
