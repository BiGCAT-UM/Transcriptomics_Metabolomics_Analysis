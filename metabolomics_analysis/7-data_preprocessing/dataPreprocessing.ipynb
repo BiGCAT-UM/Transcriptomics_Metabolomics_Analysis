{
    "cells": [
        {
            "cell_type": "markdown",
            "metadata": {},
            "source": [
                "## Introduction\n",
                "In this section of the workflow, we will obtain the metabolomics data and apply filtering options, to create a dataset ready for further statistical and pathway analysis.\n",
                "\n",
                "### First, we setup the required libraries to get started.\n"
            ]
        },
        {
            "cell_type": "code",
            "execution_count": null,
            "metadata": {},
            "outputs": [],
            "source": [
                "# check if libraries are already installed > otherwise install it\n",
                "if(!requireNamespace(\"BiocManager\", quietly = TRUE)) install.packages(\"BiocManager\",repos = \"http://cran.us.r-project.org\")\n",
                "if(!\"rstudioapi\" %in% installed.packages()) BiocManager::install(\"rstudioapi\")\n",
                "if(!\"dplyr\" %in% installed.packages()) BiocManager::install(\"dplyr\")\n",
                "#Libraries required for markdown documents:\n",
                "if(!\"markdown\" %in% installed.packages()){install.packages(\"markdown\")}\n",
                "if(!\"rmarkdown\" %in% installed.packages()){install.packages(\"rmarkdown\")}\n",
                "if(!\"stringr\" %in% installed.packages()){install.packages(\"stringr\")}\n",
                "#load libraries\n",
                "library(rstudioapi)\n",
                "library(dplyr)\n",
                "library(stringr)\n",
                "# set your working environment to the location where your current source file is saved into.\n",
                "setwd(dirname(rstudioapi::getSourceEditorContext()$path))\n"
            ]
        },
        {
            "cell_type": "markdown",
            "metadata": {},
            "source": [
                "\n",
                "### Second, we download the required data, read the metadata and filter out not-relevant data.\n"
            ]
        },
        {
            "cell_type": "code",
            "execution_count": null,
            "metadata": {},
            "outputs": [],
            "source": [
                "#Library to download data from online files:\n",
                "if(!\"downloader\" %in% installed.packages()){install.packages(\"downloader\")}\n",
                "require(downloader)\n",
                "\n",
                "##Download metadata, extract metabolomics sample IDs, location and disorders.\n",
                "if(file.exists(\"data/hmp2_metadata.csv\")){print(\"Metadata already downloaded\")}else{\n",
                "fileUrl <- \"https://ibdmdb.org/tunnel/products/HMP2/Metadata/hmp2_metadata.csv?accessType=DOWNLOAD\"\n",
                "require(downloader)\n",
                "download(fileUrl, \"data/hmp2_metadata.csv\", mode = \"wb\")\n",
                "}\n",
                "\n",
                "#read metadata file\n",
                "metaData <- read.csv(\"data/hmp2_metadata.csv\")\n",
                "#filter out by data type and week number\n",
                "metaDataMBX <- subset(metaData, metaData$data_type == \"metabolomics\" )\n",
                "#we need to have the samples which has same visit number\n",
                "metaDataMBX<- subset(metaDataMBX, metaDataMBX$visit_num == 4)\n",
                "#we should match transcriptomics (htx) samples and metabolomics (mbx) samples with participantID\n",
                "#but samples are given by their externalID in mbx file so we should keep them both\n",
                "#select columns which will be used\n",
                "metaDataMBX <- metaDataMBX %>% select(External.ID,Participant.ID,diagnosis)\n",
                "#rename columns of metaDataMBX\n",
                "colnames(metaDataMBX) <- c(\"ExternalID\",\"ParticipantID\",\"disease\" )\n",
                "\n",
                "#download and read metabolomics peak intensity data\n",
                "if(file.exists(\"data/metabolomics.csv.gz\")){print(\"Metabolomics zipped data already downloaded\")}else{\n",
                "fileUrl <- \"https://ibdmdb.org/tunnel/products/HMP2/Metabolites/1723/HMP2_metabolomics.csv.gz?accessType=DOWNLOAD\"\n",
                "download(fileUrl, \"data/metabolomics.csv.gz\", mode = \"wb\")\n",
                "}\n",
                "\n",
                "#Note: if the URL download does not work, the zipped file is located on GitHub to continue the rest of this script.\n",
                "if(file.exists(\"data/metabolomics.csv\")){print(\"Unzipped Metabolomics data already downloaded\")}else{\n",
                "if(!\"R.utils\" %in% installed.packages()){install.packages(\"R.utils\")}\n",
                "library(R.utils)\n",
                "gunzip(\"data/metabolomics.csv.gz\", remove=FALSE)\n",
                "}\n",
                "\n",
                "mbxData <- read.csv(\"data/metabolomics.csv\")\n",
                "#delete not used columns\n",
                "mbxData = subset(mbxData, select = -c(1,2,3,4,7) )\n"
            ]
        },
        {
            "cell_type": "markdown",
            "metadata": {},
            "source": "### Third, we perform data extraction, and process the data\n"
        },
        {
            "cell_type": "code",
            "execution_count": null,
            "metadata": {},
            "outputs": [],
            "source": [
                "### row (metabolite) filtering ###\n",
                "#delete metabolite or row if it has NA or empty value for hmdbID\n",
                "mbxData<- mbxData[!(is.na(mbxData$HMDB...Representative.ID.) | mbxData$HMDB...Representative.ID.==\"\") , ]\n",
                "#remove rows which has hmdb as \"redundant ion\"\n",
                "mbxData<- mbxData[!(mbxData$HMDB...Representative.ID.==\"redundant ion\") , ]\n",
                "#remove character (asterisk) in some hmdb column values\n",
                "mbxData$HMDB...Representative.ID.<- stringr::str_replace(mbxData$HMDB...Representative.ID., '\\\\*', '')\n",
                "#Update HMDB IDs to new data structure\n",
                "mbxData$HMDB...Representative.ID.<- stringr::str_replace(mbxData$HMDB...Representative.ID., 'HMDB', 'HMDB00')\n",
                "#back up original mbxdata\n",
                "mbxData.b <- mbxData\n",
                "\n",
                "### modify mbxData based on sample names given in metaData file (created with the criteria visit_num=4 )###\n",
                "#filter out mbxData columns (samples) based metaDataMBX externalIDs\n",
                "names.use <- names(mbxData)[ names(mbxData) %in% metaDataMBX$ExternalID]\n",
                "#update mbx data with used names\n",
                "mbxData <- mbxData [ ,names.use]\n",
                "#order data based on col names\n",
                "mbxData <- mbxData[ , order(names(mbxData))]\n",
                "\n",
                "#order metadata based on externalID\n",
                "metaDataMBX <- metaDataMBX[order(metaDataMBX$ExternalID),]\n",
                "\n",
                "#add HMDBID and Compound Name column to the mbx data\n",
                "mbxData <- cbind(mbxData.b$HMDB...Representative.ID., mbxData.b$Metabolite,mbxData)\n",
                "colnames(mbxData)[1] <- \"HMDB.ID\"\n",
                "colnames(mbxData)[2] <- \"Compound.Name\"\n",
                "\n",
                "#add disease labels to the mbx data\n",
                "diseaseLabels <- metaDataMBX$disease\n",
                "##Add two empty strings to macth with additional column data.\n",
                "diseaseLabels <- append(diseaseLabels, \"NA\",after = 0)\n",
                "diseaseLabels <- append(diseaseLabels, \"NA\",after = 0)\n",
                "mbxData <- rbind(diseaseLabels, mbxData)\n"
            ]
        },
        {
            "cell_type": "markdown",
            "metadata": {},
            "source": [
                "\n",
                "### Fourth, we split up the data for UC and CD, include the control data nonIBD, and save this data to an output folder.\n"
            ]
        },
        {
            "cell_type": "code",
            "execution_count": null,
            "metadata": {},
            "outputs": [],
            "source": [
                "#write only UC versus nonIBD comparison\n",
                "mbxDataUC <- mbxData[ ,(mbxData[1, ] == \"UC\" | mbxData[1, ] == \"nonIBD\")]\n",
                "#add hmdb id again\n",
                "mbxDataUC <- cbind(mbxData[,1:2],mbxDataUC)\n",
                "colnames(mbxDataUC)[1]=\"HMBDB.ID\"\n",
                "colnames(mbxDataUC)[2] <- \"Compound.Name\"\n",
                "write.table(mbxDataUC, \"output/mbxDataUC_nonIBD.csv\", sep =\",\", row.names = FALSE)\n",
                "\n",
                "#write only CD_healthy comparison\n",
                "mbxDataCD <- mbxData[ ,(mbxData[1, ] == \"CD\" | mbxData[1, ] == \"nonIBD\")]\n",
                "mbxDataCD <- cbind(mbxData[,1:2],mbxDataCD)\n",
                "colnames(mbxDataCD)[1]=\"HMBDB.ID\"\n",
                "colnames(mbxDataCD)[2] <- \"Compound.Name\"\n",
                "write.table(mbxDataCD, \"output/mbxDataCD_nonIBD.csv\", sep =\",\", row.names = FALSE)\n"
            ]
        },
        {
            "cell_type": "markdown",
            "metadata": {},
            "source": [
                "\n",
                "### Last, we create a Jupyter notebook and markdown file from this script\n"
            ]
        },
        {
            "cell_type": "code",
            "execution_count": null,
            "metadata": {},
            "outputs": [],
            "source": [
                "#Jupyter Notebook file\n",
                "if(!\"devtools\" %in% installed.packages()) BiocManager::install(\"devtools\")\n",
                "devtools::install_github(\"mkearney/rmd2jupyter\", force=TRUE)\n",
                "library(devtools)\n",
                "library(rmd2jupyter)\n",
                "setwd(dirname(rstudioapi::getSourceEditorContext()$path))\n",
                "rmd2jupyter(\"dataPreprocessing.Rmd\")\n",
                "\n",
                "#markdown_file <- \"dataPreprocessing.md\"\n",
                "#if (file.exists(markdown_file)) {\n",
                "#   unlink(markdown_file, recursive=TRUE)#firs delete the existing one\n",
                "# }\n",
                "#Still trows an error\n",
                "#rmarkdown::render(\"dataPreprocessing.Rmd\", \"md_document\")\n",
                "\n",
                "##Clean up R-studio environment\n",
                "remove(diseaseLabels, fileUrl, names.use, mbxData, mbxData.b, mbxDataCD, mbxDataUC, metaDataMBX, metaData)\n"
            ]
        },
        {
            "cell_type": "markdown",
            "metadata": {},
            "source": [
                "\n",
                "### After data processing, we continue to step 8, statistical analysis.\n"
            ]
        }
    ],
    "metadata": {
        "anaconda-cloud": "",
        "kernelspec": {
            "display_name": "R",
            "langauge": "R",
            "name": "ir"
        },
        "language_info": {
            "codemirror_mode": "r",
            "file_extension": ".r",
            "mimetype": "text/x-r-source",
            "name": "R",
            "pygments_lexer": "r",
            "version": "3.4.1"
        }
    },
    "nbformat": 4,
    "nbformat_minor": 1
}
