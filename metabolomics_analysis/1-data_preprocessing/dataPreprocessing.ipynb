{
    "cells": [
        {
            "cell_type": "markdown",
            "metadata": {},
            "source": [
                "## Introduction\n",
                "In this script, filtering options will be applied for metabolomics data to be prepared for the analysis\n",
                "\n",
                "## Setup\n"
            ]
        },
        {
            "cell_type": "code",
            "execution_count": null,
            "metadata": {},
            "outputs": [],
            "source": [
                "# check if libraries are already installed > otherwise install it\n",
                "if(!requireNamespace(\"BiocManager\", quietly = TRUE)) install.packages(\"BiocManager\",repos = \"http://cran.us.r-project.org\")\n",
                "if(!\"rstudioapi\" %in% installed.packages()) BiocManager::install(\"rstudioapi\")\n",
                "if(!\"dplyr\" %in% installed.packages()) BiocManager::install(\"dplyr\")\n",
                "#load libraries\n",
                "library(rstudioapi)\n",
                "library(dplyr)\n",
                "# set your working environment to the location where your current source file is saved into.\n",
                "setwd(dirname(rstudioapi::getSourceEditorContext()$path))\n"
            ]
        },
        {
            "cell_type": "markdown",
            "metadata": {},
            "source": [
                "\n",
                "## Read netadata and filtering processes\n"
            ]
        },
        {
            "cell_type": "code",
            "execution_count": null,
            "metadata": {},
            "outputs": [],
            "source": [
                "#read metadata file\n",
                "metaData <- read.csv(\"data/hmp2_metadata_2018-08-20.csv\")\n",
                "#filter out by data type and week num\n",
                "metaDataMBX <- subset(metaData, metaData$data_type == \"metabolomics\" )\n",
                "#we need to have the samples which has same visit number\n",
                "metaDataMBX<- subset(metaDataMBX, metaDataMBX$visit_num == 4)\n",
                "#we should match transcriptomics (htx) samples and metabolomics (mbx) samples with participantID\n",
                "#but samples are given by their externalID in mbx file so we should keep them both\n",
                "#select columns which will be used\n",
                "metaDataMBX <- metaDataMBX %>% select(External.ID,Participant.ID,diagnosis)\n",
                "#rename columns of metaDataMBX\n",
                "colnames(metaDataMBX) <- c(\"ExternalID\",\"ParticipantID\",\"disease\" )\n",
                "\n",
                "#read metabolomics peak intensity data\n",
                "mbxData <- read.csv(\"data/iHMP_metabolomics.csv\")\n",
                "#delete unused columns\n",
                "mbxData = subset(mbxData, select = -c(1,2,3,4,6,7) )\n"
            ]
        },
        {
            "cell_type": "markdown",
            "metadata": {},
            "source": "\n"
        },
        {
            "cell_type": "code",
            "execution_count": null,
            "metadata": {},
            "outputs": [],
            "source": [
                "### row (metabolite) filtering ###\n",
                "#delete metabolite or row if it has NA or empty value for hmdbID\n",
                "mbxData<- mbxData[!(is.na(mbxData$HMDB...Representative.ID.) | mbxData$HMDB...Representative.ID.==\"\") , ]\n",
                "#remove rows which has hmdb as \"redundant ion\"\n",
                "mbxData<- mbxData[!(mbxData$HMDB...Representative.ID.==\"redundant ion\") , ]\n",
                "#remove character (asterisk) in some hmdb column values\n",
                "mbxData$HMDB...Representative.ID.<- stringr::str_replace(mbxData$HMDB...Representative.ID., '\\\\*', '')\n",
                "#back up original mbxdata\n",
                "mbxData.b <- mbxData\n",
                "\n",
                "### modify mbxData based on sample names given in metaData file (created with the criteria visit_num=4 )###\n",
                "#filter out mbxData columns (samples) based metaDataMBX externalIDs\n",
                "names.use <- names(mbxData)[ names(mbxData) %in% metaDataMBX$ExternalID]\n",
                "#update mbx data with used names\n",
                "mbxData <- mbxData [ ,names.use]\n",
                "#order data based on col names\n",
                "mbxData <- mbxData[ , order(names(mbxData))]\n",
                "\n",
                "#order metadata based on externalID\n",
                "metaDataMBX <- metaDataMBX[order(metaDataMBX$ExternalID),]\n",
                "\n",
                "#add HMDBID column to the mbx data\n",
                "mbxData <- cbind(mbxData.b$HMDB...Representative.ID.,mbxData)\n",
                "colnames(mbxData)[1] <- \"HMDB.ID\"\n",
                "\n",
                "#add disease labels to the mbx data\n",
                "diseaseLabels <- metaDataMBX$disease\n",
                "diseaseLabels <- append(diseaseLabels, \"\",after = 0)\n",
                "mbxData <- rbind(diseaseLabels, mbxData)\n"
            ]
        },
        {
            "cell_type": "markdown",
            "metadata": {},
            "source": "\n"
        },
        {
            "cell_type": "code",
            "execution_count": null,
            "metadata": {},
            "outputs": [],
            "source": [
                "yedek <- mbxData\n",
                "#to eliminate duplicate HMDB IDs\n",
                "mbxData <- mbxData[!duplicated(mbxData$HMDB.ID), ]\n",
                "\n",
                "#write only UC versus nonIBD comparison\n",
                "mbxDataUC <- mbxData[ ,(mbxData[1, ] == \"UC\" | mbxData[1, ] == \"nonIBD\")]\n",
                "#add hmdb id again\n",
                "mbxDataUC <- cbind(mbxData[,1],mbxDataUC)\n",
                "colnames(mbxDataUC)[1]=\"HMBDB.ID\"\n",
                "write.table(mbxDataUC, \"output/mbxDataUC_nonIBD.csv\", sep =\",\", row.names = FALSE)\n",
                "\n",
                "#write only CD_healthy comparison\n",
                "mbxDataCD <- mbxData[ ,(mbxData[1, ] == \"CD\" | mbxData[1, ] == \"nonIBD\")]\n",
                "mbxDataCD <- cbind(mbxData[,1],mbxDataCD)\n",
                "colnames(mbxDataCD)[1]=\"HMBDB.ID\"\n",
                "write.table(mbxDataCD, \"output/mbxDataCD_nonIBD.csv\", sep =\",\", row.names = FALSE)\n"
            ]
        },
        {
            "cell_type": "markdown",
            "metadata": {},
            "source": "\n"
        }
    ],
    "metadata": {
        "anaconda-cloud": "",
        "kernelspec": {
            "display_name": "R",
            "langauge": "R",
            "name": "ir"
        },
        "language_info": {
            "codemirror_mode": "r",
            "file_extension": ".r",
            "mimetype": "text/x-r-source",
            "name": "R",
            "pygments_lexer": "r",
            "version": "3.4.1"
        }
    },
    "nbformat": 4,
    "nbformat_minor": 1
}
