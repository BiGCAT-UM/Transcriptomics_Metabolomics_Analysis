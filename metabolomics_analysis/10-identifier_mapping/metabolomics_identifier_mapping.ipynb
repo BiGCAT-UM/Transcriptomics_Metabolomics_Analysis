{
    "cells": [
        {
            "cell_type": "markdown",
            "metadata": {},
            "source": [
                "## Introduction\n",
                "Before we can visualize the multi-omics data in CytoScape, we need to prepare data to be imported according to the unified database identifiers available.\n",
                "Therefor, metabolite data is mapped to ChEBI IDS.\n",
                "\n",
                "## Setup\n"
            ]
        },
        {
            "cell_type": "code",
            "execution_count": null,
            "metadata": {},
            "outputs": [],
            "source": [
                "# check if libraries are already installed > otherwise install it\n",
                "#if (!requireNamespace(\"BiocManager\", quietly = TRUE)) install.packages(\"BiocManager\")\n",
                "if(!\"dplyr\" %in% installed.packages()) BiocManager::install(\"dplyr\")\n",
                "if(!\"BridgeDbR\" %in% installed.packages()) BiocManager::install(\"BridgeDbR\")\n",
                "install.packages(\"rJava\",repos = \"http://cran.us.r-project.org\" )\n",
                " ## See https://www.r-bloggers.com/2018/02/installing-rjava-on-ubuntu/ if you have issues with this package on Ubuntu.\n",
                "\n",
                "#load libraries\n",
                "library(dplyr)\n",
                "library(BridgeDbR)\n",
                "library(rJava)\n"
            ]
        },
        {
            "cell_type": "markdown",
            "metadata": {},
            "source": [
                "\n",
                "## Process metabolite data\n"
            ]
        },
        {
            "cell_type": "code",
            "execution_count": null,
            "metadata": {},
            "outputs": [],
            "source": [
                "setwd('..')\n",
                "\n",
                "#Obtain data from step 8\n",
                "mSet_CD <- read.csv(\"8-significantly_changed_metabolites_analysis/output/mbxData_CD.csv\", na.strings=c(\"\", \"NA\"))\n",
                "mSet_UC <- read.csv(\"8-significantly_changed_metabolites_analysis/output/mbxData_UC.csv\", na.strings=c(\"\", \"NA\"))\n",
                "#filter out unused columns\n",
                "mSet_CD <- mSet_CD [,c(1:4)]\n",
                "mSet_UC <- mSet_UC [,c(1:4)]\n",
                "\n",
                "# Set Working Directory back to current folder\n",
                "setwd(\"10-identifier_mapping\")\n",
                "\n",
                "##Retain all metabolite IDs from CD and UC for identifier mapping:\n",
                "mSet_total <- unique(rbind(mSet_CD[,c(1,2)], mSet_UC[,c(1,2)]))\n",
                "\n",
                "#Download the Metabolite mapping file (if it doesn't exist locally yet):\n",
                "checkfile <- paste0(getwd(), '/' ,\"data/metabolites.bridge\")\n",
                "if (!file.exists(checkfile)) {\n",
                "  download.file(\"https://figshare.com/ndownloader/files/36197283\", checkfile)\n",
                "}\n",
                "##Load the metabolite mapping file:\n",
                "mapper <- BridgeDbR ::loadDatabase(checkfile)\n",
                "\n",
                "## Obtain the System codes for the databases HMDB (source database of dataset) and ChEBI (intended output database)\n",
                "code <- getOrganismCode(\"Homo sapiens\")\n",
                "code_mappingFrom <- getSystemCode(\"HMDB\")\n",
                "code_mappingTo   <- getSystemCode(\"ChEBI\")\n",
                "\n",
                "## Create a data frame with the mappings and the correct SystemCode\n",
                "input = data.frame(\n",
                "    source = rep(code_mappingFrom, length(mSet_total$HMDB_ID)),\n",
                "    identifier = mSet_total$HMDB_ID)\n",
                "#Obtain all mappings from HMDB to ChEBI\n",
                "MultiMappings = BridgeDbR::maps(mapper, input, code_mappingTo)\n",
                "#remove all rows in the mapped data which do not include the prefix \"CHEBI\"\n",
                "MultiMappings <- MultiMappings %>% filter(grepl(\"CHEBI\",mapping, fixed = TRUE))\n",
                "#filter out double identifiers because there are one-to-many relationship between hmdb and chebi IDs\n",
                "MultiMappings <- MultiMappings %>% distinct (MultiMappings$identifier, .keep_all = TRUE)\n",
                "MultiMappings <- MultiMappings [,c(2,4)]\n",
                "\n",
                "merged.data_CD<- merge(MultiMappings, mSet_CD,by.x=\"identifier\", by.y=\"HMDB_ID\",sort = TRUE, all.x = TRUE, all.y = TRUE)\n",
                "merged.data_UC<- merge(MultiMappings, mSet_UC,by.x=\"identifier\", by.y=\"HMDB_ID\",sort = TRUE, all.x = TRUE, all.y = TRUE)\n",
                "#filter out metabolites that has NA value for CHEBI\n",
                "merged.data_CD<- merged.data_CD %>% tidyr::drop_na(mapping)\n",
                "merged.data_UC<- merged.data_UC %>% tidyr::drop_na(mapping)\n",
                "#filter out metabolites that has NA value for foldchange_disorder\n",
                "merged.data_CD<- merged.data_CD %>% tidyr::drop_na(foldchange_disorder)\n",
                "merged.data_UC<- merged.data_UC %>% tidyr::drop_na(foldchange_disorder)\n",
                "#change column names\n",
                "colnames(merged.data_CD) <- c(\"HMDBID\",\"CHEBI\", \"label\", \"log2FC_met\", \"pvalue_met\")\n",
                "colnames(merged.data_UC) <- c(\"HMDBID\",\"CHEBI\", \"label\", \"log2FC_met\", \"pvalue_met\")\n"
            ]
        },
        {
            "cell_type": "markdown",
            "metadata": {},
            "source": [
                "\n",
                "## Export the mapped metabolomics data:\n"
            ]
        },
        {
            "cell_type": "code",
            "execution_count": null,
            "metadata": {},
            "outputs": [],
            "source": [
                "##Save the data file\n",
                "write.table(merged.data_CD, 'output/mbx_mapped_data_CD.tsv', sep =\"\\t\", row.names = FALSE)\n",
                "write.table(merged.data_UC, 'output/mbx_mapped_data_UC.tsv', sep =\"\\t\", row.names = FALSE)\n"
            ]
        },
        {
            "cell_type": "markdown",
            "metadata": {},
            "source": [
                "\n",
                "##Print session info:\n"
            ]
        },
        {
            "cell_type": "code",
            "execution_count": null,
            "metadata": {},
            "outputs": [],
            "source": [
                "##Print session info:\n",
                "sessionInfo()\n"
            ]
        },
        {
            "cell_type": "markdown",
            "metadata": {},
            "source": [
                "\n",
                "### Last, we create a Jupyter notebook and markdown file from this script\n"
            ]
        },
        {
            "cell_type": "code",
            "execution_count": null,
            "metadata": {},
            "outputs": [],
            "source": [
                "#Jupyter Notebook file\n",
                "if(!\"devtools\" %in% installed.packages()) BiocManager::install(\"devtools\")\n",
                "devtools::install_github(\"mkearney/rmd2jupyter\", force=TRUE)\n",
                "library(devtools)\n",
                "library(rmd2jupyter)\n",
                "rmd2jupyter(\"metabolomics_identifier_mapping.Rmd\")\n"
            ]
        },
        {
            "cell_type": "markdown",
            "metadata": {},
            "source": [
                "\n",
                "\n"
            ]
        }
    ],
    "metadata": {
        "anaconda-cloud": "",
        "kernelspec": {
            "display_name": "R",
            "langauge": "R",
            "name": "ir"
        },
        "language_info": {
            "codemirror_mode": "r",
            "file_extension": ".r",
            "mimetype": "text/x-r-source",
            "name": "R",
            "pygments_lexer": "r",
            "version": "3.4.1"
        }
    },
    "nbformat": 4,
    "nbformat_minor": 1
}
