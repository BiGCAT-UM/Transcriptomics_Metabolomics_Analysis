{
    "cells": [
        {
            "cell_type": "markdown",
            "metadata": {},
            "source": [
                "## Introduction\n",
                "In this workflow, we will apply statis one factoral analysis on metabolomics data\n",
                "using MetaboAnalyst software R packages.\n",
                "MetaboAnalystR 3 contains the R functions and libraries underlying the popular MetaboAnalyst web server, including metabolomic data analysis, visualization, and functional interpretation. The package is synchronized with the MetaboAnalyst web server. After installing and loading the package, users will be able to reproduce the same results from their local computers using the corresponding R command history downloaded from MetaboAnalyst web site, thereby achieving maximum flexibility and reproducibility.\n",
                "source:https://www.metaboanalyst.ca/MetaboAnalyst/docs/RTutorial.xhtml\n",
                "\n",
                "## Setup\n",
                "Installing and loading required libraries\n"
            ]
        },
        {
            "cell_type": "code",
            "execution_count": null,
            "metadata": {},
            "outputs": [],
            "source": [
                "# check if libraries are already installed > otherwise install it\n",
                "if (!requireNamespace(\"BiocManager\", quietly = TRUE)) install.packages(\"BiocManager\")\n",
                "if(!\"rstudioapi\" %in% installed.packages()) BiocManager::install(\"rstudioapi\")\n",
                "if(!\"MetaboAnalystR\" %in% installed.packages()) BiocManager::install(\"MetaboAnalystR\")\n",
                "\n",
                "#load installed librariers\n",
                "library(BiocManager)\n",
                "library(rstudioapi)\n",
                "library(MetaboAnalystR)\n"
            ]
        },
        {
            "cell_type": "markdown",
            "metadata": {},
            "source": [
                "\n",
                "# Data import and preprocessing\n"
            ]
        },
        {
            "cell_type": "code",
            "execution_count": null,
            "metadata": {},
            "outputs": [],
            "source": [
                "# set your working environment to the location where your current source file is saved into.\n",
                "setwd(dirname(rstudioapi::getSourceEditorContext()$path))\n",
                "work_DIR <- getwd()\n",
                "\n",
                "#initialize data object\n",
                "mSet<-InitDataObjects(\"pktable\", \"stat\", FALSE)\n",
                "#read data\n",
                "mSet<-Read.TextData(mSet, \"data/mbxDataCD_nonIBD.csv\", \"colu\", \"disc\");\n",
                "mSet<-SanityCheckData(mSet)\n",
                "\n",
                "#missing value removal by filtering out features has more than 50% missing\n",
                "mSet<-RemoveMissingPercent(mSet, percent=0.5)\n",
                "#set the rest features as column mean\n",
                "mSet<-ImputeMissingVar(mSet, method=\"mean\")\n",
                "mSet<-SanityCheckData(mSet)\n",
                "\n",
                "#no filter applied\n",
                "mSet<-FilterVariable(mSet, \"none\", \"F\", 25)\n",
                "\n",
                "# Saving output\n",
                "if(dir.exists(\"output\"))#if the output folder already exist\n",
                "  unlink(\"output\", recursive=TRUE)#first delete the existing one\n",
                "dir.create(\"output\")#create a new output folder\n",
                "#setwd(paste0(work_DIR,\"/output\"))\n",
                "\n",
                "#normalization\n",
                "mSet<-PreparePrenormData(mSet)\n",
                "mSet<-Normalization(mSet, \"NULL\", \"CrNorm\", \"NULL\", ratio=FALSE, ratioNum=20)\n",
                "mSet<-PlotNormSummary(mSet, \"norm_0_\", \"png\", 72, width=NA)\n",
                "mSet<-PlotSampleNormSummary(mSet, \"snorm_0_\", \"png\", 72, width=NA)\n"
            ]
        },
        {
            "cell_type": "markdown",
            "metadata": {},
            "source": [
                "\n",
                "## Volcano plot\n"
            ]
        },
        {
            "cell_type": "code",
            "execution_count": null,
            "metadata": {},
            "outputs": [],
            "source": [
                "mSet<-Volcano.Anal(mSet, FALSE, 1.0, 0, F, 1.0, TRUE, \"raw\")\n",
                "mSet<-PlotVolcano(mSet, \"volcano_1_\",1, 0, \"png\", 72, width=NA)\n"
            ]
        },
        {
            "cell_type": "markdown",
            "metadata": {},
            "source": "\n"
        }
    ],
    "metadata": {
        "anaconda-cloud": "",
        "kernelspec": {
            "display_name": "R",
            "langauge": "R",
            "name": "ir"
        },
        "language_info": {
            "codemirror_mode": "r",
            "file_extension": ".r",
            "mimetype": "text/x-r-source",
            "name": "R",
            "pygments_lexer": "r",
            "version": "3.4.1"
        }
    },
    "nbformat": 4,
    "nbformat_minor": 1
}
