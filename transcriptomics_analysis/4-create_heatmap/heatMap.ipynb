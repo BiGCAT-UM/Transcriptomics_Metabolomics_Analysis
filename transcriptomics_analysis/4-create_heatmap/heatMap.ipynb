{
    "cells": [
        {
            "cell_type": "markdown",
            "metadata": {},
            "source": [
                "## Introduction\n",
                "In this workflow, heatmap visualization for enriched pathways will be performed.\n",
                "\n",
                "## R environment setup\n"
            ]
        },
        {
            "cell_type": "code",
            "execution_count": null,
            "metadata": {},
            "outputs": [],
            "source": [
                "# check if libraries are already installed > otherwise install it\n",
                "if (!requireNamespace(\"BiocManager\", quietly = TRUE)) install.packages(\"BiocManager\")\n",
                "if(!\"rstudioapi\" %in% installed.packages()) BiocManager::install(\"rstudioapi\")\n",
                "if(!\"RColorBrewer\" %in% installed.packages()) BiocManager::install(\"RColorBrewer\")  \n",
                "if(!\"dplyr\" %in% installed.packages()) BiocManager::install(\"dplyr\")\n",
                "if(!\"pheatmap\" %in% installed.packages()) BiocManager::install(\"pheatmap\")\n",
                "\n",
                "#loading installed libraries\n",
                "library(RColorBrewer) \n",
                "library(dplyr) \n",
                "library (pheatmap)\n",
                "\n",
                "# set your working environment to the location where your current source file is saved into.\n",
                "setwd(dirname(rstudioapi::getSourceEditorContext()$path))\n"
            ]
        },
        {
            "cell_type": "markdown",
            "metadata": {},
            "source": [
                "## Importing dataset\n",
                "Enriched pathway list will be imported.\n"
            ]
        },
        {
            "cell_type": "code",
            "execution_count": null,
            "metadata": {},
            "outputs": [],
            "source": [
                "##Obtain data from step 3:\n",
                "setwd('..')\n",
                "work_DIR <- getwd()\n",
                "#we have four datasets in total\n",
                "#read all pathway lists\n",
                "CD.ileum <- read.delim(\"3-pathway_analysis/results/enrichResults_CD_ileum\",sep = \"\\t\", header = TRUE)\n",
                "CD.rectum <- read.delim(\"3-pathway_analysis/results/enrichResults_CD_rectum\", sep = \"\\t\",header = TRUE)\n",
                "UC.ileum <- read.delim(\"3-pathway_analysis/results/enrichResults_UC_ileum\",sep = \"\\t\", header = TRUE)\n",
                "UC.rectum <- read.delim(\"3-pathway_analysis/results/enrichResults_UC_rectum\", sep = \"\\t\",header = TRUE)\n",
                "\n",
                "# Set Working Directory back to current folder\n",
                "setwd(dirname(rstudioapi::getSourceEditorContext()$path))\n",
                "work_DIR <- getwd()\n",
                "\n",
                "#we need to get pathways that has p.adjust value lower than 0.05 and qvalue<0.02\n",
                "#To prevent high false discovery rate (FDR) in multiple testing, q-values are also estimated for FDR control.\n",
                "CD.ileum.f <- CD.ileum[(CD.ileum$p.adjust<0.05)&(CD.ileum$qvalue<0.02),]\n",
                "CD.rectum.f <- CD.rectum[(CD.rectum$p.adjust<0.05)&(CD.rectum$qvalue<0.02),]\n",
                "UC.ileum.f <- UC.ileum[(UC.ileum$p.adjust<0.05)&(UC.ileum$qvalue<0.02),]\n",
                "UC.rectum.f <- UC.rectum[(UC.rectum$p.adjust<0.05)&(UC.rectum$qvalue<0.02),]\n"
            ]
        },
        {
            "cell_type": "markdown",
            "metadata": {},
            "source": [
                "\n",
                "## Merge all pathways into a pathway data frame\n"
            ]
        },
        {
            "cell_type": "code",
            "execution_count": null,
            "metadata": {},
            "outputs": [],
            "source": [
                "#Filter out unused columns \n",
                "CD.ileum.f  <- CD.ileum.f [,c(2,6)]\n",
                "CD.rectum.f <- CD.rectum.f [,c(2,6)]\n",
                "UC.ileum.f  <- UC.ileum.f [,c(2,6)]\n",
                "UC.rectum.f <- UC.rectum.f [,c(2,6)]\n",
                "\n",
                "\n",
                "#first 20 max value of p.adjust pathways for each comparison: Note that if a dataset has less then 20 sign. changed PWs, less rows need to be selected (e.g. adapt c(1:20))\n",
                "#merge CD pathways\n",
                "all.pathways.1 <- merge(CD.ileum.f[c(1:20),], CD.rectum.f[c(1:20),],by.x=\"Description\", by.y=\"Description\",sort = TRUE, all.x = TRUE, all.y = TRUE)\n",
                "#merge UC pathways\n",
                "all.pathways.2 <- merge(UC.ileum.f[c(1:20),], UC.rectum.f[c(1:20),],by.x=\"Description\", by.y=\"Description\",sort = TRUE, all.x = TRUE, all.y = TRUE)\n",
                "#merge all of them\n",
                "all.pathways <- merge(all.pathways.1 , all.pathways.2 ,by.x=\"Description\", by.y=\"Description\",sort = TRUE, all.x = TRUE, all.y = TRUE)\n",
                "colnames(all.pathways) <- c(\"Description\",\"CD.ileum.p.adjust\",\"CD.rectum.p.adjust\",\"UC.ileum.p.adjust\",\"UC.rectum.p.adjust\")\n",
                "#remove unused variables\n",
                "rm(all.pathways.1, all.pathways.2)\n"
            ]
        },
        {
            "cell_type": "markdown",
            "metadata": {},
            "source": [
                "\n",
                "## Modify merged pathway list\n"
            ]
        },
        {
            "cell_type": "code",
            "execution_count": null,
            "metadata": {},
            "outputs": [],
            "source": [
                "#replace NA values with the values from the whole list\n",
                "#### for CD ileum\n",
                "#find pathways which does not occur in the filtered enriched pathway list of cd.ileum (p.adjust<0.05 & qvalue<0.02 )\n",
                "notExist.CDileum <- setdiff(all.pathways$Description,CD.ileum.f$Description)\n",
                "all.pathways[all.pathways$Description %in% notExist.CDileum,]$CD.ileum.p.adjust <- 1\n",
                "\n",
                "#replacing NA values with the values from the significant list\n",
                "NA.indices <- which(is.na(all.pathways$CD.ileum.p.adjust), arr.ind = TRUE)\n",
                "allIDs <- all.pathways[NA.indices,]$Description\n",
                "df <- CD.ileum.f[CD.ileum.f$Description %in% allIDs,]\n",
                "df <- df[order(df$Description),]\n",
                "all.pathways[all.pathways$Description %in% df$Description,]$CD.ileum.p.adjust <- df$p.adjust\n",
                "\n",
                "#### for CD rectum\n",
                "#find pathways which does not occur in the filtered enriched pathway list of cd rectum (p.adjust<0.05 & qvalue<0.02 )\n",
                "notExist.CDrectum<- setdiff(all.pathways$Description,CD.rectum.f$Description)\n",
                "all.pathways[all.pathways$Description %in% notExist.CDrectum,]$CD.rectum.p.adjust <- 1\n",
                "\n",
                "#replacing NA values with the values from the whole list\n",
                "NA.indices <- which(is.na(all.pathways$CD.rectum.p.adjust), arr.ind = TRUE)\n",
                "allIDs <- all.pathways[NA.indices,]$Description\n",
                "df <- CD.rectum.f[CD.rectum.f$Description %in% allIDs,]\n",
                "df <- df[order(df$Description),]\n",
                "all.pathways[all.pathways$Description %in% df$Description,]$CD.rectum.p.adjust <- df$p.adjust\n",
                "\n",
                "#### for UC ileum\n",
                "#find pathways which does not occur in the filtered enriched pathway list of UC ileum (p.adjust<0.05 & qvalue<0.02 )\n",
                "notExist.UCileum <- setdiff(all.pathways$Description,UC.ileum.f$Description)\n",
                "all.pathways[all.pathways$Description %in% notExist.UCileum,]$UC.ileum.p.adjust <- 1\n",
                "\n",
                "#replacing NA values with the values from the whole list\n",
                "NA.indices <- which(is.na(all.pathways$UC.ileum.p.adjust), arr.ind = TRUE)\n",
                "allIDs <- all.pathways[NA.indices,]$Description\n",
                "df <- UC.ileum.f[UC.ileum.f$Description %in% allIDs,]\n",
                "df <- df[order(df$Description),]\n",
                "all.pathways[all.pathways$Description %in% df$Description,]$UC.ileum.p.adjust <- df$p.adjust\n",
                "\n",
                "#### for UC rectum\n",
                "#find pathways which does not occur in the filtered enriched pathway list of UC rectum (p.adjust<0.05 & qvalue<0.02 )\n",
                "notExist.UCrectum<- setdiff(all.pathways$Description,UC.rectum.f$Description)\n",
                "all.pathways[all.pathways$Description %in% notExist.UCrectum,]$UC.rectum.p.adjust <- 1\n",
                "\n",
                "#replacing NA values with the values from the whole list\n",
                "NA.indices <- which(is.na(all.pathways$UC.rectum.p.adjust), arr.ind = TRUE)\n",
                "allIDs <- all.pathways[NA.indices,]$Description\n",
                "df <- UC.rectum.f[UC.rectum.f$Description %in% allIDs,]\n",
                "df <- df[order(df$Description),]\n",
                "all.pathways[all.pathways$Description %in% df$Description,]$UC.rectum.p.adjust <- df$p.adjust\n"
            ]
        },
        {
            "cell_type": "markdown",
            "metadata": {},
            "source": [
                "\n",
                "## Heatmap visualization\n"
            ]
        },
        {
            "cell_type": "code",
            "execution_count": null,
            "metadata": {},
            "outputs": [],
            "source": [
                "#take only required columns\n",
                "row.names(all.pathways) <- all.pathways$Description\n",
                "all.pathways  <- all.pathways[,2:5]\n",
                "colnames(all.pathways) <- c(\"CD.ileum\",\"CD.rectum\",\"UC.ileum\",\"UC.rectum\")\n",
                "\n",
                "## Select a size to visualize the heatmap with (options; large or small)\n",
                "size_heatmap <- \"small\"\n",
                "\n",
                "if (size_heatmap == \"large\") {\n",
                "  ##Print labels large for paper, small for notebook:\n",
                "fontsize_row_l = 30 \n",
                "fontsize_col_l = 30 \n",
                "width_l =2000 \n",
                "height_l =2000 \n",
                "name_heatmap_file <- \"output/heatmap_log10_large.png\"\n",
                "}else if(size_heatmap == \"small\"){ \n",
                "    ##Print labels large for paper, small for notebook:\n",
                "fontsize_row_l = 10 \n",
                "fontsize_col_l = 10 \n",
                "width_l =1500 \n",
                "height_l =1500 \n",
                "name_heatmap_file <- \"output/heatmap_log10_small.png\"\n",
                "}else{print(\"Size not Recognised\")}\n",
                "\n",
                "\n",
                "#normally darker value represent higher values light color represent smaller values\n",
                "#when we use rev function higher ones represented by light color\n",
                "colMain <- colorRampPalette(rev(brewer.pal(9, \"Blues\")))(30)\n",
                " \n",
                "my_heatmap <- pheatmap(as.matrix(log10(all.pathways)), \n",
                "                       scale = \"none\", color = colMain ,\n",
                "                       cellwidth = 80, treeheight_row = 200, fontsize_row= fontsize_row_l, fontsize_col = fontsize_col_l)\n",
                "                      \n",
                "#save obtained heatmap\n",
                "save_pheatmap_png <- function(x, filename, width = width_l, height = height_l) {\n",
                "  png(filename, width = width, height = height)\n",
                "  grid::grid.newpage()\n",
                "  grid::grid.draw(x$gtable)\n",
                "  dev.off()\n",
                "}\n",
                "\n",
                "##p-values are visalized on a log10 scale, to make them more discriminatory.\n",
                "save_pheatmap_png(my_heatmap, name_heatmap_file)\n"
            ]
        },
        {
            "cell_type": "markdown",
            "metadata": {},
            "source": [
                "\n",
                "## Last, we create a Jupyter notebook from this script\n"
            ]
        },
        {
            "cell_type": "code",
            "execution_count": null,
            "metadata": {},
            "outputs": [],
            "source": [
                "#Jupyter Notebook file\n",
                "if(!\"devtools\" %in% installed.packages()) BiocManager::install(\"devtools\")\n",
                "devtools::install_github(\"mkearney/rmd2jupyter\", force=TRUE)\n",
                "library(devtools)\n",
                "library(rmd2jupyter)\n",
                "setwd(dirname(rstudioapi::getSourceEditorContext()$path))\n",
                "rmd2jupyter(\"heatMap.Rmd\")\n"
            ]
        },
        {
            "cell_type": "markdown",
            "metadata": {},
            "source": "\n"
        }
    ],
    "metadata": {
        "anaconda-cloud": "",
        "kernelspec": {
            "display_name": "R",
            "langauge": "R",
            "name": "ir"
        },
        "language_info": {
            "codemirror_mode": "r",
            "file_extension": ".r",
            "mimetype": "text/x-r-source",
            "name": "R",
            "pygments_lexer": "r",
            "version": "3.4.1"
        }
    },
    "nbformat": 4,
    "nbformat_minor": 1
}
