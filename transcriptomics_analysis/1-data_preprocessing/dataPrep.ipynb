{
    "cells": [
        {
            "cell_type": "markdown",
            "metadata": {},
            "source": [
                "## Introduction\n",
                "In this script, filtering options will be applied for transcriptomics data to be prepared for the analysis\n",
                "\n",
                "## Setup\n"
            ]
        },
        {
            "cell_type": "code",
            "execution_count": null,
            "metadata": {},
            "outputs": [],
            "source": [
                "# check if libraries are already installed > otherwise install it\n",
                "if(!requireNamespace(\"BiocManager\", quietly = TRUE)) install.packages(\"BiocManager\",repos = \"http://cran.us.r-project.org\")\n",
                "if(!\"rstudioapi\" %in% installed.packages()) BiocManager::install(\"rstudioapi\")\n",
                "if(!\"readxl\" %in% installed.packages()) BiocManager::install(\"readxl\")\n",
                "if(!\"dplyr\" %in% installed.packages()) BiocManager::install(\"dplyr\")\n",
                "\n",
                "#load libraries\n",
                "library(rstudioapi)\n",
                "library(readxl)\n",
                "library(dplyr)\n",
                "\n",
                "# set working environment to the location where current source file is saved into.\n",
                "setwd(dirname(rstudioapi::getSourceEditorContext()$path))\n"
            ]
        },
        {
            "cell_type": "markdown",
            "metadata": {},
            "source": [
                "\n",
                "## Read and filter out metadata \n"
            ]
        },
        {
            "cell_type": "code",
            "execution_count": null,
            "metadata": {},
            "outputs": [],
            "source": [
                "##Download metadata, extract transcriptomics sample IDs, location and disorders.\n",
                "if(file.exists(\"data/hmp2_metadata.csv\")){print(\"Metadata already downloaded\")}else{\n",
                "fileUrl <- \"https://ibdmdb.org/tunnel/products/HMP2/Metadata/hmp2_metadata.csv?accessType=DOWNLOAD\"\n",
                "require(downloader)\n",
                "download(fileUrl, \"data/hmp2_metadata.csv\", mode = \"wb\")\n",
                "}\n",
                "#Read metadata\n",
                "htxMeta <- read.csv(\"data/hmp2_metadata.csv\")\n",
                "#filter out by data type as host-transcriptomics\n",
                "htxMeta <- htxMeta  %>% filter(htxMeta$data_type == \"host_transcriptomics\")\n",
                "\n",
                "#filter out data by biopsy location, include CD, UC and nonIBD samples from ileum and rectum location \n",
                "htxMeta <-htxMeta  %>% filter(  (htxMeta$diagnosis == \"CD\" & htxMeta$biopsy_location==\"Ileum\") \n",
                "                              | (htxMeta$diagnosis == \"CD\" & htxMeta$biopsy_location==\"Rectum\")\n",
                "                              | (htxMeta$diagnosis == \"UC\" & htxMeta$biopsy_location==\"Ileum\") \n",
                "                              | (htxMeta$diagnosis == \"UC\" & htxMeta$biopsy_location==\"Rectum\") \n",
                "                              | (htxMeta$diagnosis == \"nonIBD\" & htxMeta$biopsy_location==\"Rectum\") \n",
                "                              | (htxMeta$diagnosis == \"nonIBD\" & htxMeta$biopsy_location==\"Ileum\") \n",
                ")\n",
                "#filter out samples by visit_num=1\n",
                "htxMeta <-htxMeta  %>% filter(htxMeta$visit_num == \"1\")\n",
                "\n",
                "#filter out unused columns\n",
                "htxMeta <- htxMeta %>% dplyr::select(External.ID,Participant.ID,biopsy_location,diagnosis)\n",
                "\n",
                "#Order htxMeta data based on external ID to match samples with htx count correctly\n",
                "htxMeta<- htxMeta[order(htxMeta$External.ID),]#order htxMeta by external ID\n"
            ]
        },
        {
            "cell_type": "markdown",
            "metadata": {},
            "source": "# Filter out host transcriptomics (htx) count data based on sample names obtained from htx meta data, save data in output file.\n"
        },
        {
            "cell_type": "code",
            "execution_count": null,
            "metadata": {},
            "outputs": [],
            "source": [
                "#transcript count (htx count) original file is read\n",
                "htxOrj <- read.csv(\"host_tx_counts.tsv\",sep = \"\\t\")\n",
                "\n",
                "#Convert sample names to upper (some of them are in lower case)\n",
                "colnames(htxOrj)<-toupper(colnames(htxOrj))\n",
                "\n",
                "#htx count data are filtered based on col names in htxMeta\n",
                "names.use <- names(htxOrj)[(names(htxOrj) %in% htxMeta$External.ID)]\n",
                "#filter out htxOrj based on names.use and create htxCount\n",
                "htxCount <- htxOrj[, names.use]\n",
                "#htxCount data are ordered based on column names to match samples between htxCount and sampleLabels\n",
                "htxCount <- htxCount[,order(names(htxCount))]\n",
                "#check whether they are in same order\n",
                "#colnames(htxCount) == htxMeta[,\"External.ID\"]\n",
                "#Write all the generated data into the related output files \n",
                "write.table(htxCount, \"output/htxCount.csv\", sep=\"\\t\",quote=FALSE, row.names = TRUE )\n",
                "write.table(htxMeta, \"output/sampleLabels.csv\", sep=\"\\t\",quote=FALSE,row.names = FALSE, col.names = FALSE)\n"
            ]
        },
        {
            "cell_type": "markdown",
            "metadata": {},
            "source": [
                "\n",
                "### Last, we create a Jupyter notebook from this script\n"
            ]
        },
        {
            "cell_type": "code",
            "execution_count": null,
            "metadata": {},
            "outputs": [],
            "source": [
                "#Jupyter Notebook file\n",
                "if(!\"devtools\" %in% installed.packages()) BiocManager::install(\"devtools\")\n",
                "devtools::install_github(\"mkearney/rmd2jupyter\", force=TRUE)\n",
                "library(devtools)\n",
                "library(rmd2jupyter)\n",
                "setwd(dirname(rstudioapi::getSourceEditorContext()$path))\n",
                "rmd2jupyter(\"dataPrep.Rmd\")\n"
            ]
        }
    ],
    "metadata": {
        "anaconda-cloud": "",
        "kernelspec": {
            "display_name": "R",
            "langauge": "R",
            "name": "ir"
        },
        "language_info": {
            "codemirror_mode": "r",
            "file_extension": ".r",
            "mimetype": "text/x-r-source",
            "name": "R",
            "pygments_lexer": "r",
            "version": "3.4.1"
        }
    },
    "nbformat": 4,
    "nbformat_minor": 1
}
