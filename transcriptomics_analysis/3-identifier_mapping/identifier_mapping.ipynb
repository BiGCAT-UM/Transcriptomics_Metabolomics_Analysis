{
    "cells": [
        {
            "cell_type": "markdown",
            "metadata": {},
            "source": [
                "## Introduction\n",
                "In this section, identifier (IDs) mapping is performed from the original data annotation (HGNC symbols) to Entrez Gene and Ensembl IDs, since tools downstream of this step require different input formats for the IDs.\n",
                "\n",
                "## R environment setup\n"
            ]
        },
        {
            "cell_type": "code",
            "execution_count": null,
            "metadata": {},
            "outputs": [],
            "source": [
                "# check if libraries are already installed > otherwise install it\n",
                "if (!requireNamespace(\"BiocManager\", quietly = TRUE)) install.packages(\"BiocManager\")\n",
                "if(!\"org.Hs.eg.db\" %in% installed.packages()) BiocManager::install(\"org.Hs.eg.db\")  \n",
                "if(!\"AnnotationDbi\" %in% installed.packages()) BiocManager::install(\"AnnotationDbi\")\n",
                "if(!\"dplyr\" %in% installed.packages()){install.packages(\"dplyr\")}\n",
                "\n",
                "#loading installed libraries\n",
                "library(org.Hs.eg.db) #This is the organism annotation package (\"org\") for Homo sapiens (\"Hs\"), \n",
                "#organized as an AnnotationDbi   package (\"db\"), using Entrez Gene IDs (\"eg\") as primary key.\n",
                "library(AnnotationDbi) # for connecting and querying annotation databases\n",
                "library(dplyr)\n"
            ]
        },
        {
            "cell_type": "markdown",
            "metadata": {},
            "source": [
                "## Importing dataset\n",
                "The data will be read for the disease on two biopsy locations\n"
            ]
        },
        {
            "cell_type": "code",
            "execution_count": null,
            "metadata": {},
            "outputs": [],
            "source": [
                "## Select a disorder to analyse (options; CD or UC)\n",
                "disorder <- \"CD\"\n",
                "##set wd as as one level back to obtain data from previuos step that is DE analysis\n",
                "setwd('..')\n",
                "\n",
                "#we have two datasets from different biopsy locations\n",
                "dataset1 <- read.delim(\"2-differential_gene_expression_analysis/statsmodel/table_UC_Ileum_vs_nonIBD_Ileum.tab\", stringsAsFactors=F)\n",
                "dataset2 <- read.delim(\"2-differential_gene_expression_analysis/statsmodel/table_UC_Rectum_vs_nonIBD_Rectum.tab\",stringsAsFactors=F)\n",
                "dataset3 <- read.delim(\"2-differential_gene_expression_analysis/statsmodel/table_CD_Ileum_vs_nonIBD_Ileum.tab\",stringsAsFactors=F)\n",
                "dataset4 <- read.delim(\"2-differential_gene_expression_analysis/statsmodel/table_CD_Rectum_vs_nonIBD_Rectum.tab\",stringsAsFactors=F)\n",
                "\n",
                "# Set Working Directory back to current folder\n",
                "setwd(\"3-identifier_mapping\")\n",
                "\n",
                "if (disorder == \"CD\") {\n",
                "  #filter out  unused columns, we select geneSymbol, log2FC and pvalue\n",
                "  dataset_ileum<- subset( dataset3, select = c(1,3,7))\n",
                "  dataset_rectum<- subset( dataset4, select = c(1,3,7))\n",
                "  print(\"Selected disorder is Crohn's disease\")\n",
                "}else if(disorder == \"UC\"){ \n",
                "  #filter out  unused columns, we select geneSymbol, log2FC and pvalue\n",
                "  dataset_ileum<- subset( dataset1, select = c(1,3,7))\n",
                "  dataset_rectum<- subset( dataset2, select = c(1,3,7))\n",
                "  print(\"Selected disorder is Ulcerative Colitis\")}else{print(\"Disorder not Recognised\")\n",
                "}\n",
                "#merge two dataset of two locations into one data \n",
                "dataset <- merge(dataset_ileum, dataset_rectum,by.x=\"X\", by.y=\"X\",sort = TRUE, all.x = TRUE, all.y = TRUE)\n",
                "#change column names\n",
                "colnames(dataset) <- c(\"GeneSymbol\",\"log2FC_ileum\",\"pvalue_ileum\",\"log2FC_rectum\",\"pvalue_rectum\")\n"
            ]
        },
        {
            "cell_type": "markdown",
            "metadata": {},
            "source": "## Converting hgnc gene symbols to the corresponding Entrez (NCBI) gene IDs\n"
        },
        {
            "cell_type": "code",
            "execution_count": null,
            "metadata": {},
            "outputs": [],
            "source": [
                "#converting gene symbols to entrez ID since these are required for the enrichR function\n",
                "hs <- org.Hs.eg.db #This object is a simple mapping of Entrez Gene identifier\n",
                "entrezID <- AnnotationDbi::select(hs, keys = dataset$GeneSymbol,\n",
                "            columns = c(\"ENTREZID\", \"SYMBOL\"),\n",
                "            keytype = \"SYMBOL\")\n",
                "#filter out double gene symbols\n",
                "entrezID <- entrezID %>% distinct (entrezID$SYMBOL, .keep_all = TRUE)\n",
                "# add entrezIDs for each gene symbol in the dataset\n",
                "dataset <- cbind(entrezID$ENTREZID,dataset)\n",
                "#change column name\n",
                "colnames(dataset)[1] = \"ENTREZ.ID\"\n",
                "#filter out genes that has NA value for entrezID\n",
                "#dataset<- dataset %>% tidyr::drop_na(ENTREZ.ID)\n"
            ]
        },
        {
            "cell_type": "markdown",
            "metadata": {},
            "source": [
                "\n",
                "## Converting hgnc gene symbols to the corresponding Ensembl IDs\n"
            ]
        },
        {
            "cell_type": "code",
            "execution_count": null,
            "metadata": {},
            "outputs": [],
            "source": [
                "#converting gene symbols to Ensembl ID since these are required for the Cytoscape multiomics visualization\n",
                "hs <- org.Hs.eg.db #This object is a simple mapping of Entrez Gene identifier\n",
                "ensemblID <- AnnotationDbi::select(hs, keys = dataset$GeneSymbol,\n",
                "            columns = c(\"ENSEMBL\", \"SYMBOL\"),\n",
                "            keytype = \"SYMBOL\")\n",
                "#filter out double gene symbols\n",
                "ensemblID <- ensemblID %>% distinct (ensemblID$SYMBOL, .keep_all = TRUE)\n",
                "# add entrezIDs for each gene symbol in the dataset\n",
                "dataset <- cbind(ensemblID$ENSEMBL,dataset)\n",
                "#change column name\n",
                "colnames(dataset)[1] = \"Ensembl.ID\"\n",
                "#filter out genes that has NA value for entrezID\n",
                "#dataset<- dataset %>% tidyr::drop_na(Ensembl.ID)\n"
            ]
        },
        {
            "cell_type": "markdown",
            "metadata": {},
            "source": [
                "\n",
                "##Save data, print session info and remove large datasets:\n"
            ]
        },
        {
            "cell_type": "code",
            "execution_count": null,
            "metadata": {},
            "outputs": [],
            "source": [
                "##Save data:\n",
                "#exporting results to the file\n",
                "write.table(dataset, file=paste0(\"output/IDMapping_\",disorder, \".tsv\"),\n",
                "            sep = \"\\t\" ,quote = FALSE, row.names = FALSE)\n",
                "\n",
                "##Print session info:\n",
                "sessionInfo()\n",
                "\n",
                "##Remove data objects which are not needed for further processing:\n",
                "rm(list=setdiff(ls(), c(\"dataset\", \"disorder\", \"work_DIR\")))\n"
            ]
        },
        {
            "cell_type": "markdown",
            "metadata": {},
            "source": [
                "\n",
                "### Last, we create a Jupyter notebook from this script\n"
            ]
        },
        {
            "cell_type": "code",
            "execution_count": null,
            "metadata": {},
            "outputs": [],
            "source": [
                "#Jupyter Notebook file\n",
                "if(!\"devtools\" %in% installed.packages()) BiocManager::install(\"devtools\")\n",
                "devtools::install_github(\"mkearney/rmd2jupyter\", force=TRUE)\n",
                "library(devtools)\n",
                "library(rmd2jupyter)\n",
                "rmd2jupyter(\"identifier_mapping.Rmd\")\n"
            ]
        }
    ],
    "metadata": {
        "anaconda-cloud": "",
        "kernelspec": {
            "display_name": "R",
            "langauge": "R",
            "name": "ir"
        },
        "language_info": {
            "codemirror_mode": "r",
            "file_extension": ".r",
            "mimetype": "text/x-r-source",
            "name": "R",
            "pygments_lexer": "r",
            "version": "3.4.1"
        }
    },
    "nbformat": 4,
    "nbformat_minor": 1
}
