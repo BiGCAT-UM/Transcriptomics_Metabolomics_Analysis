{
    "cells": [
        {
            "cell_type": "markdown",
            "metadata": {},
            "source": [
                "## Introduction\n",
                "In this workflow, heatmap visualization for enriched pathways will be performed.\n",
                "\n",
                "## R environment setup\n"
            ]
        },
        {
            "cell_type": "code",
            "execution_count": null,
            "metadata": {},
            "outputs": [],
            "source": [
                "# check if libraries are already installed > otherwise install it\n",
                "if (!requireNamespace(\"BiocManager\", quietly = TRUE)) install.packages(\"BiocManager\")\n",
                "if(!\"RColorBrewer\" %in% installed.packages()) BiocManager::install(\"RColorBrewer\")  \n",
                "if(!\"dplyr\" %in% installed.packages()) BiocManager::install(\"dplyr\")\n",
                "if(!\"pheatmap\" %in% installed.packages()) BiocManager::install(\"pheatmap\")\n",
                "\n",
                "#loading installed libraries\n",
                "library(RColorBrewer) \n",
                "library(dplyr) \n",
                "library (pheatmap)\n"
            ]
        },
        {
            "cell_type": "markdown",
            "metadata": {},
            "source": [
                "\n",
                "##  Enriched pathway list will be imported.\n"
            ]
        },
        {
            "cell_type": "code",
            "execution_count": null,
            "metadata": {},
            "outputs": [],
            "source": [
                "##Obtain data from step 3:\n",
                "setwd('..')\n",
                "\n",
                "#we have four datasets in total\n",
                "#read all pathway lists\n",
                "CD.ileum <- read.delim(\"4-pathway_analysis/output/enrichResults_ORA_CD_ileum.tsv\",sep = \"\\t\", header = TRUE)\n",
                "CD.rectum <- read.delim(\"4-pathway_analysis/output/enrichResults_ORA_CD_rectum.tsv\", sep = \"\\t\",header = TRUE)\n",
                "UC.ileum <- read.delim(\"4-pathway_analysis/output/enrichResults_ORA_UC_ileum.tsv\",sep = \"\\t\", header = TRUE)\n",
                "UC.rectum <- read.delim(\"4-pathway_analysis/output/enrichResults_ORA_UC_rectum.tsv\", sep = \"\\t\",header = TRUE)\n",
                "\n",
                "# Set Working Directory back to current folder\n",
                "setwd(\"5-create_heatmap\")\n",
                "\n",
                "#we need to get pathways that has p.adjust value lower than 0.05 and qvalue<0.02\n",
                "#To prevent high false discovery rate (FDR) in multiple testing, q-values are also estimated for FDR control.\n",
                "CD.ileum.f <- CD.ileum[(CD.ileum$p.adjust<0.05)&(CD.ileum$qvalue<0.02),]\n",
                "CD.rectum.f <- CD.rectum[(CD.rectum$p.adjust<0.05)&(CD.rectum$qvalue<0.02),]\n",
                "UC.ileum.f <- UC.ileum[(UC.ileum$p.adjust<0.05)&(UC.ileum$qvalue<0.02),]\n",
                "UC.rectum.f <- UC.rectum[(UC.rectum$p.adjust<0.05)&(UC.rectum$qvalue<0.02),]\n"
            ]
        },
        {
            "cell_type": "markdown",
            "metadata": {},
            "source": "## Merge all pathways into a pathway data frame\n"
        },
        {
            "cell_type": "code",
            "execution_count": null,
            "metadata": {},
            "outputs": [],
            "source": [
                "#Filter out unused columns \n",
                "CD.ileum.f  <- CD.ileum.f [,c(2,6)]\n",
                "CD.rectum.f <- CD.rectum.f [,c(2,6)]\n",
                "UC.ileum.f  <- UC.ileum.f [,c(2,6)]\n",
                "UC.rectum.f <- UC.rectum.f [,c(2,6)]\n",
                "\n",
                "#first 20 max value of p.adjust pathways for each comparison: Note that if a dataset has less then 20 sign. changed PWs, less rows need to be selected (e.g. adapt c(1:20))\n",
                "#merge CD pathways\n",
                "all.pathways.1 <- merge(CD.ileum.f[c(1:20),], CD.rectum.f[c(1:20),],by.x=\"Description\", by.y=\"Description\",sort = TRUE, all.x = TRUE, all.y = TRUE)\n",
                "#merge UC pathways\n",
                "all.pathways.2 <- merge(UC.ileum.f, UC.rectum.f[c(1:20),],by.x=\"Description\", by.y=\"Description\",sort = TRUE, all.x = TRUE, all.y = TRUE)\n",
                "#merge all of them\n",
                "all.pathways <- merge(all.pathways.1 , all.pathways.2 ,by.x=\"Description\", by.y=\"Description\",sort = TRUE, all.x = TRUE, all.y = TRUE)\n",
                "colnames(all.pathways) <- c(\"Description\",\"CD.ileum.p.adjust\",\"CD.rectum.p.adjust\",\"UC.ileum.p.adjust\",\"UC.rectum.p.adjust\")\n",
                "#remove unused variables\n",
                "rm(all.pathways.1, all.pathways.2)\n"
            ]
        },
        {
            "cell_type": "markdown",
            "metadata": {},
            "source": [
                "\n",
                "## Modify merged pathway list\n"
            ]
        },
        {
            "cell_type": "code",
            "execution_count": null,
            "metadata": {},
            "outputs": [],
            "source": [
                "#replace NA values with the values from the whole list\n",
                "#### for CD ileum\n",
                "#find pathways which does not occur in the filtered enriched pathway list of cd.ileum (p.adjust<0.05 & qvalue<0.02 )\n",
                "#because we will not take into account not sig. enriched pathways, we will assign value of 1 for their p.adjust\n",
                "notExist.CDileum <- setdiff(all.pathways$Description,CD.ileum.f$Description)\n",
                "all.pathways[all.pathways$Description %in% notExist.CDileum,]$CD.ileum.p.adjust <- 1\n",
                "\n",
                "#the rest NA values correspond to the sig.enriched pathways but not in the first 20 list.\n",
                "#so we will replace NA values with the p.adjust values from the whole list\n",
                "NA.indices <- which(is.na(all.pathways$CD.ileum.p.adjust), arr.ind = TRUE)\n",
                "allIDs <- all.pathways[NA.indices,]$Description\n",
                "df <- CD.ileum.f[CD.ileum.f$Description %in% allIDs,]\n",
                "df <- df[order(df$Description),]\n",
                "all.pathways[all.pathways$Description %in% df$Description,]$CD.ileum.p.adjust <- df$p.adjust\n",
                "\n",
                "#### for CD rectum\n",
                "#find pathways which does not occur in the filtered enriched pathway list of cd rectum (p.adjust<0.05 & qvalue<0.02 )\n",
                "notExist.CDrectum<- setdiff(all.pathways$Description,CD.rectum.f$Description)\n",
                "all.pathways[all.pathways$Description %in% notExist.CDrectum,]$CD.rectum.p.adjust <- 1\n",
                "\n",
                "#replacing NA values with the values from the whole list\n",
                "NA.indices <- which(is.na(all.pathways$CD.rectum.p.adjust), arr.ind = TRUE)\n",
                "allIDs <- all.pathways[NA.indices,]$Description\n",
                "df <- CD.rectum.f[CD.rectum.f$Description %in% allIDs,]\n",
                "df <- df[order(df$Description),]\n",
                "all.pathways[all.pathways$Description %in% df$Description,]$CD.rectum.p.adjust <- df$p.adjust\n",
                "\n",
                "#### for UC ileum\n",
                "#find pathways which does not occur in the filtered enriched pathway list of UC ileum (p.adjust<0.05 & qvalue<0.02 )\n",
                "notExist.UCileum <- setdiff(all.pathways$Description,UC.ileum.f$Description)\n",
                "all.pathways[all.pathways$Description %in% notExist.UCileum,]$UC.ileum.p.adjust <- 1\n",
                "\n",
                "#### for UC rectum\n",
                "#find pathways which does not occur in the filtered enriched pathway list of UC rectum (p.adjust<0.05 & qvalue<0.02 )\n",
                "notExist.UCrectum<- setdiff(all.pathways$Description,UC.rectum.f$Description)\n",
                "all.pathways[all.pathways$Description %in% notExist.UCrectum,]$UC.rectum.p.adjust <- 1\n",
                "\n",
                "#replacing NA values with the values from the whole list\n",
                "NA.indices <- which(is.na(all.pathways$UC.rectum.p.adjust), arr.ind = TRUE)\n",
                "allIDs <- all.pathways[NA.indices,]$Description\n",
                "df <- UC.rectum.f[UC.rectum.f$Description %in% allIDs,]\n",
                "df <- df[order(df$Description),]\n",
                "all.pathways[all.pathways$Description %in% df$Description,]$UC.rectum.p.adjust <- df$p.adjust\n"
            ]
        },
        {
            "cell_type": "markdown",
            "metadata": {},
            "source": [
                "\n",
                "## Heatmap visualization\n"
            ]
        },
        {
            "cell_type": "code",
            "execution_count": null,
            "metadata": {},
            "outputs": [],
            "source": [
                "#take only required columns\n",
                "row.names(all.pathways) <- all.pathways$Description\n",
                "all.pathways  <- all.pathways[,2:5]\n",
                "colnames(all.pathways) <- c(\"CD.ileum\",\"CD.rectum\",\"UC.ileum\",\"UC.rectum\")\n",
                "\n",
                "#create output folder if not exist\n",
                "if(!dir.exists(\"output\")) dir.create(\"output\")\n",
                "\n",
                "## Select a size to visualize the heatmap with (options; large or small)\n",
                "size_heatmap <- \"large\"\n",
                "\n",
                "##Print labels large for paper, small for notebook:\n",
                "fontsize_row_l = 30 \n",
                "if (size_heatmap == \"large\") {\n",
                "fontsize_col_l = 30 \n",
                "fontsize_l = 30\n",
                "width_l =2000 \n",
                "height_l =2000 \n",
                "name_heatmap_file <- \"output/heatmap_log10_large.png\"\n",
                "}else if(size_heatmap == \"small\"){ \n",
                "fontsize_row_l = 10 \n",
                "fontsize_col_l = 10 \n",
                "width_l =1500 \n",
                "height_l =1500 \n",
                "fontsize_l = 10\n",
                "name_heatmap_file <- \"output/heatmap_log10_small.png\"\n",
                "}else{print(\"Size not Recognised\")}\n",
                "\n",
                "#normally darker value represent higher values light color represent smaller values\n",
                "#when we use rev function higher ones are represented by light color\n",
                "colMain <- colorRampPalette(rev(brewer.pal(9, \"Blues\")))(30)\n",
                "\n",
                "my_heatmap <- pheatmap(as.matrix(log10(all.pathways)), scale = \"none\", color = colMain , \n",
                "                       legend = TRUE , legend_breaks = c(0, -5, -10, -15, min(log10(all.pathways))), \n",
                "                       main = \"\", \n",
                "                       legend_labels = c(\"adj. p-values \\n\", \" -5\", \" -10\", \" -15\", \"\"),\n",
                "                       cellwidth = 80, treeheight_row = 200, fontsize = fontsize_l, fontsize_row= fontsize_row_l, \n",
                "                       fontsize_col = fontsize_col_l, cluster_rows = TRUE, cluster_cols = FALSE)\n",
                "                      \n",
                "#save obtained heatmap\n",
                "save_pheatmap_png <- function(x, filename, width = width_l, height = height_l) {\n",
                "  png(filename, width = width, height = height)\n",
                "  grid::grid.newpage()\n",
                "  grid::grid.draw(x$gtable)\n",
                "  dev.off()\n",
                "}\n",
                "##p-values are visalized on a log10 scale, to make them more discriminatory.\n",
                "save_pheatmap_png(my_heatmap, name_heatmap_file)\n"
            ]
        },
        {
            "cell_type": "markdown",
            "metadata": {},
            "source": [
                "\n",
                "##Print session info and remove large datasets:\n"
            ]
        },
        {
            "cell_type": "code",
            "execution_count": null,
            "metadata": {},
            "outputs": [],
            "source": [
                "##Print session info:\n",
                "sessionInfo()\n",
                "\n",
                "##Remove data objects which are not needed for further processing:\n",
                "rm(list=setdiff(ls(), \"all.pathways\"))\n"
            ]
        },
        {
            "cell_type": "markdown",
            "metadata": {},
            "source": [
                "\n",
                "## Last, we create a Jupyter notebook from this script\n"
            ]
        },
        {
            "cell_type": "code",
            "execution_count": null,
            "metadata": {},
            "outputs": [],
            "source": [
                "#Jupyter Notebook file\n",
                "if(!\"devtools\" %in% installed.packages()) BiocManager::install(\"devtools\")\n",
                "devtools::install_github(\"mkearney/rmd2jupyter\", force=TRUE)\n",
                "library(devtools)\n",
                "library(rmd2jupyter)\n",
                "rmd2jupyter(\"heatMap.Rmd\")\n"
            ]
        },
        {
            "cell_type": "markdown",
            "metadata": {},
            "source": "\n"
        }
    ],
    "metadata": {
        "anaconda-cloud": "",
        "kernelspec": {
            "display_name": "R",
            "langauge": "R",
            "name": "ir"
        },
        "language_info": {
            "codemirror_mode": "r",
            "file_extension": ".r",
            "mimetype": "text/x-r-source",
            "name": "R",
            "pygments_lexer": "r",
            "version": "3.4.1"
        }
    },
    "nbformat": 4,
    "nbformat_minor": 1
}
