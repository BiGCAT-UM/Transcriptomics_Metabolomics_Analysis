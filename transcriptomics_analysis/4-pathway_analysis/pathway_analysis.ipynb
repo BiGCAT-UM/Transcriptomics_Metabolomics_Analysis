{
    "cells": [
        {
            "cell_type": "markdown",
            "metadata": {},
            "source": [
                "## Introduction\n",
                "In this workflow, we will perform pathway enrichment analysis to differential expressed genes for both diseases on two biopsy locations ileum and rectum.\n",
                "We will be performing pathway enrichment analysis on a differential gene expression dataset. The dataset compares the expression of transcripts in inflammatory bowel disease (CD and UC) biopsy locations (ileum and rectum) versus healthy people. Differential expression analysis has already been performed (see step 2 of this workflow), generating log2foldchange and (adjusted) p-values data for each gene.\n",
                "\n",
                "## R environment setup\n"
            ]
        },
        {
            "cell_type": "code",
            "execution_count": null,
            "metadata": {},
            "outputs": [],
            "source": [
                "# check if libraries are already installed > otherwise install it\n",
                "if (!requireNamespace(\"BiocManager\", quietly = TRUE)) install.packages(\"BiocManager\")\n",
                "if(!\"rstudioapi\" %in% installed.packages()) BiocManager::install(\"rstudioapi\")\n",
                "if(!\"org.Hs.eg.db\" %in% installed.packages()) BiocManager::install(\"org.Hs.eg.db\")  \n",
                "if(!\"AnnotationDbi\" %in% installed.packages()) BiocManager::install(\"AnnotationDbi\")\n",
                "if(!\"rWikiPathways\" %in% installed.packages()) BiocManager::install(\"rWikiPathways\")\n",
                "if(!\"clusterProfiler\" %in% installed.packages()) BiocManager::install(\"clusterProfiler\") \n",
                "if(!\"dplyr\" %in% installed.packages()){install.packages(\"dplyr\")}\n",
                "\n",
                "#loading installed libraries\n",
                "library(rstudioapi) # interface for interacting with RStudio IDE with R code.\n",
                "library(org.Hs.eg.db) #This is the organism annotation package (\"org\") for Homo sapiens (\"Hs\"), organized as an AnnotationDbi   package (\"db\"), using Entrez Gene IDs (\"eg\") as primary key.\n",
                "library(AnnotationDbi) # for connecting and querying annotation databases\n",
                "library(rWikiPathways) # for programmatic access to WikiPathways content\n",
                "library(clusterProfiler) # for implementing methods to analyze and visualize functional profiles of genomic data\n",
                "library(dplyr)\n",
                "\n",
                "# set your working environment to the location where your current source file is saved into.\n",
                "setwd(dirname(rstudioapi::getSourceEditorContext()$path))\n"
            ]
        },
        {
            "cell_type": "markdown",
            "metadata": {},
            "source": [
                "## Importing dataset\n",
                "The data will be read for the disease on two biopsy locations\n"
            ]
        },
        {
            "cell_type": "code",
            "execution_count": null,
            "metadata": {},
            "outputs": [],
            "source": [
                "## Select a disorder to analyse (options; CD or UC)\n",
                "disorder <- \"CD\"\n",
                "##Obtain data from step 2:\n",
                "setwd('..')\n",
                "work_DIR <- getwd()\n",
                "\n",
                "if (disorder == \"CD\") {\n",
                "  dataset_CD <- read.delim(\"3-identifier_mapping/output/IDMapping_CD.tsv\")\n",
                "  #filter out  unused columns, we select Entrez.ID, log2FC and pvalue, remove NA values: #background genes to be used in enrichment analysis\n",
                "  dataset <- na.omit(subset( dataset_CD, select = c(2,4:7)))\n",
                "  print(\"Selected disorder is Crohn's disease\")\n",
                "}else if(disorder == \"UC\"){ \n",
                "  dataset_UC <- read.delim(\"3-identifier_mapping/output/IDMapping_UC.tsv\")\n",
                "  #filter out  unused columns, we select Entrez.ID, log2FC and pvalue\n",
                "  dataset <- na.omit(subset( dataset_UC, select = c(2,4:7)))\n",
                "  print(\"Selected disorder is Ulcerative Colitis\")}else{print(\"Disorder not Recognised\")\n",
                "  }\n",
                "\n",
                "# Set Working Directory back to current folder\n",
                "setwd(dirname(rstudioapi::getSourceEditorContext()$path))\n",
                "work_DIR <- getwd()\n"
            ]
        },
        {
            "cell_type": "markdown",
            "metadata": {},
            "source": [
                "\n",
                "## Getting differentially expressed genes including up-regulated and down-regulated genes using the criteria\n"
            ]
        },
        {
            "cell_type": "code",
            "execution_count": null,
            "metadata": {},
            "outputs": [],
            "source": [
                "#if the results folder does not exist create it \n",
                "if(!dir.exists(\"output\")) dir.create(\"output\")\n",
                "#we will use selection criteria as Fold change=1.5,log2FC=0.58 and p.value < 0.05\n",
                "#for ileum location\n",
                "up.genes.ileum   <- dataset[dataset$log2FC_ileum >= 0.58 & dataset$pvalue_ileum < 0.05, 1] \n",
                "down.genes.ileum <- dataset[dataset$log2FC_ileum <= -0.58 & dataset$pvalue_ileum < 0.05, 1] \n",
                "deg.ileum <- unique(dataset[!is.na(dataset$ENTREZ.ID) & !is.na(dataset$pvalue_ileum) & dataset$pvalue_ileum < 0.05 & abs(dataset$log2FC_ileum) > 0.58,c(1:3)])\n",
                "write.table(deg.ileum,file = paste0(\"output/DEGs_\",disorder,\"_ileum\"),sep=\"\\t\", quote=FALSE, row.names = FALSE)\n",
                "\n",
                "#for rectum location\n",
                "up.genes.rectum   <- dataset[dataset$log2FC_rectum >= 0.58 & dataset$pvalue_rectum < 0.05, 1] \n",
                "down.genes.rectum <- dataset[dataset$log2FC_rectum <= -0.58 & dataset$pvalue_rectum < 0.05, 1] \n",
                "deg.rectum <- unique(dataset[!is.na(dataset$ENTREZ.ID) & !is.na(dataset$pvalue_rectum) & dataset$pvalue_rectum < 0.05 & abs(dataset$log2FC_rectum) > 0.58,c(1,4:5)])\n",
                "write.table(deg.rectum, file=paste0(\"output/DEGs_\",disorder,\"_rectum\"),sep=\"\\t\", quote=FALSE, row.names = FALSE)\n"
            ]
        },
        {
            "cell_type": "markdown",
            "metadata": {},
            "source": [
                "## Pathway Enrichment Analysis\n",
                "In this section, we will perform pathway enrichment analysis. The clusterProfiler R-package is used to perform over-representation analysis (ORA). The function can be easily replaced to use other enrichment methods (GSEA / rSEA / etc). \n"
            ]
        },
        {
            "cell_type": "code",
            "execution_count": null,
            "metadata": {},
            "outputs": [],
            "source": [
                "##Work with local file (for publication), or new download:\n",
                "pathway_data <- \"local\" #Options: local, new\n",
                "if (pathway_data == \"local\") {\n",
                "  wp.hs.gmt <-list.files(work_DIR, pattern=\"wikipathways\", full.names=FALSE)\n",
                "  paste0(\"Using local file, from: \", wp.hs.gmt )\n",
                "}else if(pathway_data == \"new\"){ \n",
                "#below code should be performed first to handle the ssl certificate error while downloading pathways \n",
                "options(RCurlOptions = list(cainfo = paste0( tempdir() , \"/cacert.pem\" ), ssl.verifypeer = FALSE))\n",
                "#downloading latest pathway gmt files for human \n",
                "wp.hs.gmt <- rWikiPathways::downloadPathwayArchive(organism=\"Homo sapiens\", format = \"gmt\")\n",
                "  paste0(\"Using new data, from: \", wp.hs.gmt)}else{print(\"Pathway data type not recognized\")\n",
                "  }\n",
                "\n",
                "#Now that we have got the latest GMT file for human pathways, \n",
                "#we can process it to generate the two dataframes we need for enricher\n",
                "wp2gene   <- rWikiPathways::readPathwayGMT(wp.hs.gmt)\n",
                "wpid2gene <- wp2gene %>% dplyr::select(wpid,gene) #TERM2GENE\n",
                "wpid2name <- wp2gene %>% dplyr::select(wpid,name) #TERM2NAME\n",
                "\n",
                "##################ILEUM location#######################\n",
                "# The clusterProfiler R-package is used to perform over-representation analysis (ORA)\n",
                "# The function can be easily replaced to use other enrichment methods (GSEA / rSEA / etc). \n",
                "ewp.ileum <- clusterProfiler::enricher(\n",
                "  deg.ileum$ENTREZ.ID,# a vector of gene IDs\n",
                "  universe = as.character(dataset$ENTREZ.ID), #background genes to be used in enrichment analysis\n",
                "  pAdjustMethod = \"fdr\",#you can change this to hochberg, bonferronni or none etc.\n",
                "  pvalueCutoff = 1, #adjusted pvalue cutoff on enrichment tests to report, we set it a wider criteria then we will filter out\n",
                "  #results based on padjust and qvalue in next section which is enrichment result visualization\n",
                "  qvalueCutoff = 1, #qvalue cutoff on enrichment tests to report as significant, \n",
                "                    #multiple hypothesis testing\n",
                "  TERM2GENE = wpid2gene, #user input annotation of TERM TO GENE mapping\n",
                "  TERM2NAME = wpid2name) #user input of TERM TO NAME mapping\n",
                "\n",
                "ewp.ileum.res <- as.data.frame(ewp.ileum) \n",
                "\n",
                "#interpretation of the output: \n",
                "#     BgRatio   = (number of genes measured in the current pathway) / (number of genes measured in all pathways)\n",
                "#     geneRatio = (number of DEGs in the current pathway) / (total number of DEGs in all pathways)\n",
                "\n",
                "##Print location:\n",
                "paste0(\"Pathways enrichment results for disorder: \", disorder , \", location: ILEUM\")\n",
                "# number of genes measured in all pathways\n",
                "paste0(\"The number of genes measured in all pathways is: \", length(ewp.ileum@universe))\n",
                "# number of DEGs in all pathways\n",
                "paste0(\"The number of DEGs measured in all pathways is: \", length(deg.ileum$ENTREZ.ID[deg.ileum$ENTREZ.ID %in% unique(wp2gene$gene)]))\n",
                "#number of enriched pathways\n",
                "paste0(\"The number of enriched pathways is: \", num.pathways.ileum <- dim(ewp.ileum.res)[1])\n",
                "\n",
                "#exporting results to the file\n",
                "write.table(ewp.ileum.res, file=paste0(\"output/enrichResults_ORA_\",disorder,\"_ileum\"),\n",
                "            sep = \"\\t\" ,quote = FALSE, row.names = FALSE)\n",
                "\n",
                "##################RECTUM location#######################\n",
                "ewp.rectum <- clusterProfiler::enricher(\n",
                "  deg.rectum$ENTREZ.ID,\n",
                "  universe = as.character(dataset$ENTREZ.ID), #background genes to be used in enrichment analysis\n",
                "  pAdjustMethod = \"fdr\",#you can change it as BH, bonferronni etc.\n",
                "  pvalueCutoff = 1, #padjust cutoff\n",
                "  qvalueCutoff = 1, #q value cutoff \n",
                "  TERM2GENE = wpid2gene,\n",
                "  TERM2NAME = wpid2name)\n",
                "ewp.rectum.res <- as.data.frame(ewp.rectum) \n",
                "\n",
                "##Print location:\n",
                "paste0(\"Pathways enrichment results for disorder: \", disorder , \", location: RECTUM\")\n",
                "# number of genes measured in all pathways\n",
                "paste0(\"The number of genes measured in all pathways is: \", length(ewp.rectum@universe))\n",
                "# number of DEGs in all pathways\n",
                "paste0(\"The number of DEGs measured in all pathways is: \", length(deg.rectum$ENTREZ.ID[deg.rectum$ENTREZ.ID %in% unique(wp2gene$gene)]))\n",
                "#number of enriched pathways\n",
                "paste0(\"The number of enriched pathways is: \", num.pathways.rectum <- dim(ewp.rectum.res)[1])\n",
                "\n",
                "#exporting results to the file\n",
                "write.table(ewp.rectum.res, file=paste0(\"output/enrichResults_ORA_\",disorder,\"_rectum\"),\n",
                "            sep = \"\\t\" ,quote = FALSE, row.names = FALSE)\n",
                "\n",
                "#if the new data file exist, remove it (so it does not conflict with running the code against the local file) \n",
                "if(pathway_data == \"new\") file.remove(wp.hs.gmt)\n"
            ]
        },
        {
            "cell_type": "markdown",
            "metadata": {},
            "source": [
                "\n",
                "##Print session info and remove large datasets:\n"
            ]
        },
        {
            "cell_type": "code",
            "execution_count": null,
            "metadata": {},
            "outputs": [],
            "source": [
                "##Print session info:\n",
                "sessionInfo()\n",
                "\n",
                "##Remove data objects which are not needed for further processing:\n",
                "rm(list=setdiff(ls(), c(\"ewp.rectum.res\", \"ewp.ileum.res\")))\n"
            ]
        },
        {
            "cell_type": "markdown",
            "metadata": {},
            "source": [
                "\n",
                "### Last, we create a Jupyter notebook from this script\n"
            ]
        },
        {
            "cell_type": "code",
            "execution_count": null,
            "metadata": {},
            "outputs": [],
            "source": [
                "#Jupyter Notebook file\n",
                "if(!\"devtools\" %in% installed.packages()) BiocManager::install(\"devtools\")\n",
                "devtools::install_github(\"mkearney/rmd2jupyter\", force=TRUE)\n",
                "library(devtools)\n",
                "library(rmd2jupyter)\n",
                "setwd(dirname(rstudioapi::getSourceEditorContext()$path))\n",
                "rmd2jupyter(\"pathway_analysis.Rmd\")\n"
            ]
        }
    ],
    "metadata": {
        "anaconda-cloud": "",
        "kernelspec": {
            "display_name": "R",
            "langauge": "R",
            "name": "ir"
        },
        "language_info": {
            "codemirror_mode": "r",
            "file_extension": ".r",
            "mimetype": "text/x-r-source",
            "name": "R",
            "pygments_lexer": "r",
            "version": "3.4.1"
        }
    },
    "nbformat": 4,
    "nbformat_minor": 1
}
