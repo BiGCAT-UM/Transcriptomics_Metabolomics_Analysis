{
    "cells": [
        {
            "cell_type": "markdown",
            "metadata": {},
            "source": [
                "## Introduction\n",
                "In this workflow, we will create protein-protein interaction (PPI) networks for both biopsy locations ileum and rectum.\n",
                "Then these networks will be extended with pathways from WikiPathways database to create PPI-pathway networks. \n",
                "Finally, MCL (Markov Clustering) network clustering algorithm will be applied to get clusters within the network.\n",
                "\n",
                "## Setup\n",
                "Installing and loading required libraries\n"
            ]
        },
        {
            "cell_type": "code",
            "execution_count": null,
            "metadata": {},
            "outputs": [],
            "source": [
                "# check if libraries are already installed > otherwise install it\n",
                "if (!requireNamespace(\"BiocManager\", quietly = TRUE)) install.packages(\"BiocManager\")\n",
                "if(!\"rstudioapi\" %in% installed.packages()) BiocManager::install(\"rstudioapi\")\n",
                "if(!\"dplyr\" %in% installed.packages()) BiocManager::install(\"dplyr\")\n",
                "if(!\"tidyr\" %in% installed.packages()) BiocManager::install(\"tidyr\")\n",
                "if(!\"readr\" %in% installed.packages()) BiocManager::install(\"readr\")\n",
                "if(!\"RCy3\" %in% installed.packages()) BiocManager::install(\"RCy3\")\n",
                "if(!\"rWikiPathways\" %in% installed.packages()) BiocManager::install(\"rWikiPathways\")\n",
                "if(!\"RColorBrewer\" %in% installed.packages()) BiocManager::install(\"RColorBrewer\")\n",
                "\n",
                "#load installed libraries\n",
                "library(dplyr)\n",
                "library(tidyr)\n",
                "library(readr)\n",
                "library(RCy3)\n",
                "library(rWikiPathways)\n",
                "library(RColorBrewer)\n",
                "\n",
                "# set your working environment to the location where your current source file is saved into.\n",
                "#setwd(dirname(rstudioapi::getSourceEditorContext()$path))\n"
            ]
        },
        {
            "cell_type": "markdown",
            "metadata": {},
            "source": [
                "## Importing dataset\n",
                "The data will be read for the disease on two biopsy locations\n"
            ]
        },
        {
            "cell_type": "code",
            "execution_count": null,
            "metadata": {},
            "outputs": [],
            "source": [
                "##Obtain all Differentially Expressed Gene data from step 3:\n",
                "setwd('..')\n",
                "work_DIR <- getwd()\n",
                "\n",
                "#read all DEG data\n",
                "CD.ileum <- read.delim(\"4-pathway_analysis/output/DEGs_CD_ileum.tsv\",sep = \"\\t\", header = TRUE)\n",
                "CD.rectum <- read.delim(\"4-pathway_analysis/output/DEGs_CD_rectum.tsv\", sep = \"\\t\",header = TRUE)\n",
                "UC.ileum <- read.delim(\"4-pathway_analysis/output/DEGs_UC_ileum.tsv\",sep = \"\\t\", header = TRUE)\n",
                "UC.rectum <- read.delim(\"4-pathway_analysis/output/DEGs_UC_rectum.tsv\", sep = \"\\t\",header = TRUE)\n",
                "\n",
                "# Set Working Directory back to current folder\n",
                "#setwd(dirname(rstudioapi::getSourceEditorContext()$path))\n",
                "setwd(\"6-network_analysis\")\n",
                "work_DIR <- getwd()\n",
                "\n",
                "#Listing all up and down regulated genes separately for CD:\n",
                "CD.up.ileum   <-unique(CD.ileum[CD.ileum$log2FC_ileum > 0.58,])\n",
                "colnames(CD.up.ileum) <- c (\"HGNC_symbol\", \"ENTREZ\", \"log2FC_CD\", \"pvalue_CD\")\n",
                "CD.down.ileum <-unique(CD.ileum[CD.ileum$log2FC_ileum < -0.58,])\n",
                "colnames(CD.down.ileum) <- c (\"HGNC_symbol\", \"ENTREZ\", \"log2FC_CD\", \"pvalue_CD\")\n",
                "CD.up.rectum   <-unique(CD.rectum[CD.rectum$log2FC_rectum > 0.58,])\n",
                "colnames(CD.up.rectum) <- c (\"HGNC_symbol\", \"ENTREZ\", \"log2FC_CD\", \"pvalue_CD\")\n",
                "CD.down.rectum <-unique(CD.rectum[CD.rectum$log2FC_rectum < -0.58,])\n",
                "colnames(CD.down.rectum) <- c (\"HGNC_symbol\", \"ENTREZ\", \"log2FC_CD\", \"pvalue_CD\")\n",
                "#Listing all up and down regulated genes separately for UC:\n",
                "UC.up.ileum   <-unique(UC.ileum[UC.ileum$log2FC_ileum > 0.58,])\n",
                "colnames(UC.up.ileum) <- c (\"HGNC_symbol\", \"ENTREZ\", \"log2FC_UC\", \"pvalue_UC\")\n",
                "UC.down.ileum <-unique(UC.ileum[UC.ileum$log2FC_ileum < -0.58,])\n",
                "colnames(UC.down.ileum) <- c (\"HGNC_symbol\", \"ENTREZ\", \"log2FC_UC\", \"pvalue_UC\")\n",
                "UC.up.rectum   <-unique(UC.rectum[UC.rectum$log2FC_rectum > 0.58,])\n",
                "colnames(UC.up.rectum) <- c (\"HGNC_symbol\", \"ENTREZ\", \"log2FC_UC\", \"pvalue_UC\")\n",
                "UC.down.rectum <-unique(UC.rectum[UC.rectum$log2FC_rectum < -0.58,])\n",
                "colnames(UC.down.rectum) <- c (\"HGNC_symbol\", \"ENTREZ\", \"log2FC_UC\", \"pvalue_UC\")\n"
            ]
        },
        {
            "cell_type": "markdown",
            "metadata": {},
            "source": [
                "\n",
                "## Finding overlapping genes between diseases on ileum biopsy location\n"
            ]
        },
        {
            "cell_type": "code",
            "execution_count": null,
            "metadata": {},
            "outputs": [],
            "source": [
                "######################################FOR ILEUM biopsy location#######################################\n",
                "# overlap genes between CD down and UC down\n",
                "merged.ileum.downCDdownUC <- merge(x=CD.down.ileum, y=UC.down.ileum, by=c('ENTREZ', 'HGNC_symbol'), all.x=FALSE, all.y=FALSE)\n",
                "\n",
                "# overlap genes between CD up and UC down\n",
                "merged.ileum.upCDdownUC <- merge(x=CD.up.ileum,y=UC.down.ileum, by=c('ENTREZ', 'HGNC_symbol'),all.x=FALSE, all.y=FALSE)\n",
                "\n",
                "# overlap genes between CD up and UC up\n",
                "merged.ileum.upCDupUC <- merge(x=CD.up.ileum,y=UC.up.ileum,by=c('ENTREZ', 'HGNC_symbol'), all.x=FALSE, all.y=FALSE)\n",
                "\n",
                "# overlap genes between CD down and UC up\n",
                "merged.ileum.downCDupUC <- merge(x=CD.down.ileum,y=UC.up.ileum,by=c('ENTREZ', 'HGNC_symbol'),all.x=FALSE, all.y=FALSE)\n",
                "\n",
                "#merge all DEG with corresponding logFC for both diseases\n",
                "DEG.overlapped_ileum <- rbind(merged.ileum.downCDdownUC, merged.ileum.upCDdownUC, merged.ileum.upCDupUC, merged.ileum.downCDupUC)\n",
                "if(!dir.exists(\"output\")) dir.create(\"output\")\n",
                "write.table(DEG.overlapped_ileum ,\"output/DEG.overlapped_ileum\",row.names=FALSE,col.names = TRUE,quote= FALSE, sep = \"\\t\")\n"
            ]
        },
        {
            "cell_type": "markdown",
            "metadata": {},
            "source": [
                "\n",
                "## Finding overlapping genes between diseases on rectum biopsy location\n"
            ]
        },
        {
            "cell_type": "code",
            "execution_count": null,
            "metadata": {},
            "outputs": [],
            "source": [
                "######################################FOR RECTUM biopsy location#######################################\n",
                "# overlap genes between CD down and UC down\n",
                "merged.rectum.downCDdownUC <- merge(x=CD.down.rectum,y=UC.down.rectum,by=c('ENTREZ', 'HGNC_symbol'),all.x=FALSE, all.y=FALSE)\n",
                "\n",
                "# overlap genes between CD up and UC down\n",
                "merged.rectum.upCDdownUC <- merge(x=CD.up.rectum,y=UC.down.rectum,by=c('ENTREZ', 'HGNC_symbol'),all.x=FALSE, all.y=FALSE)\n",
                "\n",
                "# overlap genes between CD up and UC up\n",
                "merged.rectum.upCDupUC <- merge(x=CD.up.rectum,y=UC.up.rectum,by=c('ENTREZ', 'HGNC_symbol'),all.x=FALSE, all.y=FALSE)\n",
                "\n",
                "# overlap genes between CD down and UC up\n",
                "merged.rectum.downCDupUC <- merge(x=CD.down.rectum,y=UC.up.rectum,by=c('ENTREZ', 'HGNC_symbol'),all.x=FALSE, all.y=FALSE)\n",
                "\n",
                "#merge all DEG with corresponding logFC for both diseases\n",
                "DEG.overlapped_rectum <- rbind(merged.rectum.downCDdownUC, merged.rectum.upCDdownUC, merged.rectum.upCDupUC, merged.rectum.downCDupUC)\n",
                "write.table(DEG.overlapped_rectum ,\"output/DEG.overlapped_rectum\",row.names=FALSE,col.names = TRUE,quote= FALSE, sep = \"\\t\")\n"
            ]
        },
        {
            "cell_type": "markdown",
            "metadata": {},
            "source": [
                "\n",
                "## Create Protein-Protein Interaction (PPI) network for selected biopsy location\n"
            ]
        },
        {
            "cell_type": "code",
            "execution_count": null,
            "metadata": {},
            "outputs": [],
            "source": [
                "##Remove data objects which are not needed for further processing:\n",
                "rm(list=setdiff(ls(), c(\"DEG.overlapped_ileum\", \"DEG.overlapped_rectum\")))\n",
                "\n",
                "## Select a location to analyse (options; ileum or rectum)\n",
                "location <- \"ileum\"\n",
                "\n",
                "if (location == \"ileum\"){deg <- DEG.overlapped_ileum}else if(location == \"rectum\"){deg <- DEG.overlapped_rectum}else{print(\"Location not recognized\")}\n",
                "\n",
                "#check that cytoscape is connected\n",
                "cytoscapePing()\n",
                "#close session before starting --> this overwrites existing networks!\n",
                "closeSession(FALSE)\n",
                "networkName = paste0(\"PPI_network_\",location)\n",
                "#create a PPI network using overlapped DEGs between CD and UC\n",
                "#first take the deg input list as a query\n",
                "x <- readr::format_csv(as.data.frame(deg$ENTREZ), col_names=F, escape = \"double\", eol =\",\")\n",
                "#then use the below function to convert a command string into a CyREST query URL, executes a GET request, \n",
                "#and parses the result content into an R list object. Same as commandsGET\n",
                "commandsRun(paste0('string protein query cutoff=0.7', ' newNetName=',networkName, ' query=',x,' limit=0'))\n",
                "\n",
                "#get proteins (nodes) from the constructed network: #Query term: entrez IDs, display name: HGNC symbols.\n",
                "proteins <- RCy3::getTableColumns(columns=c(\"query term\", \"display name\"))\n",
                "#get edges from the network\n",
                "ppis     <- RCy3::getTableColumns(table=\"edge\", columns=c(\"name\"))\n",
                "#split extracted edge information into source-target format\n",
                "ppis     <- data.frame(do.call('rbind', strsplit(as.character(ppis$name),' (pp) ',fixed=TRUE)))\n",
                "#merge obtained nodes and edges to get entrez IDs for each source genes \n",
                "ppis.2   <- merge(ppis, proteins, by.x=\"X1\", by.y=\"display name\", all.x=T)\n",
                "#change column names\n",
                "colnames(ppis.2) <- c(\"s\", \"t\", \"source\")\n",
                "#merge again to add entrez IDs of target genes \n",
                "ppis.3   <- merge(ppis.2, proteins, by.x=\"t\", by.y=\"display name\", all.x=T)\n",
                "colnames(ppis.3)[4] <-\"target\"\n",
                "#ppi3 stores interaction between all proteins so add new column represeting type of interaction\n",
                "ppis.3$interaction <- \"PPI\"\n",
                "#add col names to protein\n",
                "colnames(proteins) <- c(\"id\",\"label\")\n",
                "proteins$type <- \"protein\"\n",
                "\n",
                "###############get all pathways from WIKIPATHWAYS #################\n",
                "##Work with local file (for publication), or new download:\n",
                "work_DIR <- getwd()\n",
                "pathway_data <- \"local\" #Options: local, new\n",
                "if (pathway_data == \"local\") {\n",
                "  wp.hs.gmt <-list.files(work_DIR, pattern=\"wikipathways\", full.names=FALSE)\n",
                "  paste0(\"Using local file, from: \", wp.hs.gmt )\n",
                "}else if(pathway_data == \"new\"){ \n",
                "#below code should be performed first to handle the ssl certificate error while downloading pathways \n",
                "options(RCurlOptions = list(cainfo = paste0( tempdir() , \"/cacert.pem\" ), ssl.verifypeer = FALSE))\n",
                "#downloading latest pathway gmt files for human \n",
                "wp.hs.gmt <- rWikiPathways::downloadPathwayArchive(organism=\"Homo sapiens\", format = \"gmt\")\n",
                "  paste0(\"Using new data, from: \", wp.hs.gmt)}else{print(\"Pathway data type not recognized\")\n",
                "  }\n",
                "\n",
                "#all wp and gene information stored in wp2gene object\n",
                "wp2gene   <- rWikiPathways::readPathwayGMT(wp.hs.gmt)\n",
                "#filter out  pathways that does not consist of any differentially expressed genes \n",
                "wp2gene.filtered <- wp2gene [wp2gene$gene %in% deg$ENTREZ,]\n",
                "\n",
                "#change column names \n",
                "colnames(wp2gene.filtered)[3] <- c(\"source\")\n",
                "colnames(wp2gene.filtered)[5] <- c(\"target\")\n",
                "#add new column for representing interaction type\n",
                "wp2gene.filtered$interaction <- \"Pathway-Gene\"\n",
                "\n",
                "#store only wp information \n",
                "pwy.filtered <- unique( wp2gene [wp2gene$gene %in% deg$ENTREZ,c(1,3)])\n",
                "colnames(pwy.filtered) <- c(\"label\", \"id\")\n",
                "pwy.filtered$type <- \"pathway\"\n",
                "colnames(pwy.filtered) <- c(\"label\",\"id\", \"type\")\n",
                "\n",
                "#get genes \n",
                "genes <- unique(deg[,c(1,2), drop=FALSE])\n",
                "genes$type <- \"gene\"\n",
                "colnames(genes) <- c(\"id\",\"label\",\"type\")\n",
                "genes$id <- as.character(genes$id)\n",
                "#genes and pathways are separate nodes and they need to be merged\n",
                "nodes.ppi <- dplyr::bind_rows(genes,pwy.filtered)\n",
                "rownames(nodes.ppi) <- NULL\n",
                "edges.ppi <- unique(dplyr::bind_rows(ppis.3[,c(3,4,5)], wp2gene.filtered[,c(3,5,6)]))\n",
                "rownames(edges.ppi) <- NULL\n"
            ]
        },
        {
            "cell_type": "markdown",
            "metadata": {},
            "source": [
                "\n",
                "## Create Protein-Protein-pathway-interaction (PPPI) network for selected biopsy location\n"
            ]
        },
        {
            "cell_type": "code",
            "execution_count": null,
            "metadata": {},
            "outputs": [],
            "source": [
                "#create a network name \n",
                "networkName = paste0(\"PPI_Pathway_Network_\",location)\n",
                "\n",
                "###########Create PPI-pathway network###\n",
                "RCy3::createNetworkFromDataFrames(nodes= nodes.ppi, edges = edges.ppi, title=networkName, collection=location)\n",
                "RCy3::loadTableData(nodes.ppi, data.key.column = \"label\", table=\"node\", table.key.column = \"label\")\n",
                "RCy3::loadTableData(deg, data.key.column = \"ENTREZ\", table.key.column = \"id\")\n",
                "\n",
                "###########Visual style#################\n",
                "RCy3::copyVisualStyle(\"default\",\"ppi\")#Create a new visual style (ppi) by copying a specified style (default)\n",
                "RCy3::setNodeLabelMapping(\"label\", style.name=\"ppi\")\n",
                "RCy3::lockNodeDimensions(TRUE, style.name=\"ppi\")#Set a boolean value to have node width and height fixed to a single size value.\n",
                "\n",
                "#threshold is set based of differential expressed gene criteria\n",
                "data.values<-c(-0.58,0,0.58) \n",
                "#red-blue color schema chosen\n",
                "node.colors <- c(brewer.pal(length(data.values), \"RdBu\"))\n",
                "#nodes are split to show both log2fc values for both diseases \n",
                "RCy3::setNodeCustomHeatMapChart(c(\"log2FC_CD\",\"log2FC_UC\"), slot = 2, style.name = \"ppi\", colors = c(\"#CC3300\",\"#FFFFFF\",\"#6699FF\",\"#CCCCCC\"))\n",
                "RCy3::setVisualStyle(\"ppi\")\n",
                "\n",
                "# Saving output\n",
                "if(!dir.exists(\"output\")) dir.create(\"output\")\n",
                "outputName = paste0 (\"output/PPI_Pathway_Network_\", wp.hs.gmt, location,\".png\")\n",
                "png.file <- file.path(getwd(), outputName)\n",
                "exportImage(png.file,'PNG', zoom = 500)\n"
            ]
        },
        {
            "cell_type": "markdown",
            "metadata": {},
            "source": [
                "\n",
                "## Clustering obtained networks\n"
            ]
        },
        {
            "cell_type": "code",
            "execution_count": null,
            "metadata": {},
            "outputs": [],
            "source": [
                "#we will continue with the same session used for pppi networks\n",
                "#to check cytoscape is connected\n",
                "cytoscapePing()\n",
                "\n",
                "#Install the Clustermaker2 app (if not available already)\n",
                "if(\"Clustermaker2\" %in% commandsHelp(\"\")) print(\"Success: the Clustermaker2 app is installed\") else print(\"Warning: Clustermaker2 app is not installed. Please install the Clustermaker2 app before proceeding.\")\n",
                "if(!\"Clustermaker2\" %in% commandsHelp(\"\")){\n",
                "  installApp(\"Clustermaker2\")\n",
                "}\n",
                "\n",
                "networkName = paste0 (\"PPI_Pathway_Network_\",location)\n",
                "#to get network name of the location \n",
                "networkSuid = getNetworkSuid(networkName)\n",
                "setCurrentNetwork(network=networkSuid)\n",
                "#create cluster command\n",
                "clustermaker <- paste(\"cluster mcl createGroups=TRUE showUI=TRUE network=SUID:\",networkSuid, sep=\"\")\n",
                "#run the command in cytoscape\n",
                "res <- commandsGET(clustermaker)\n",
                "#total number of clusters \n",
                "cat(\"Total number of clusters for\",location, as.numeric(gsub(\"Clusters: \", \"\", res[1])))\n",
                "\n",
                "#change pathway node visualization\n",
                "pathways <- RCy3::selectNodes(nodes=\"pathway\", by.col = \"type\")\n",
                "RCy3::setNodeColorBypass(node.names = pathways$nodes, \"#D3D3D3\")\n",
                "RCy3::setNodeBorderWidthBypass(node.names = pathways$nodes, 10)\n",
                "\n",
                "#export image\n",
                "outputName = paste0 (\"output/PPI_Pathway_Network_\",location, wp.hs.gmt,\"_clustered\",\".png\")\n",
                "png.file <- file.path(getwd(), outputName)\n",
                "exportImage(png.file,'PNG', zoom = 500)\n",
                "\n",
                "#save session\n",
                "cys.file <- file.path(getwd(), \"output/PPI_Pathway_Network_\",wp.hs.gmt, location,\"_clustered\",\".cys\")\n",
                "#saveSession(cys.file) \n",
                "\n",
                "#if the new data file exist, remove it (so it does not conflict with running the code against the local file) \n",
                "if(pathway_data == \"new\") file.remove(wp.hs.gmt)\n"
            ]
        },
        {
            "cell_type": "markdown",
            "metadata": {},
            "source": [
                "\n",
                "##Print session info:\n"
            ]
        },
        {
            "cell_type": "code",
            "execution_count": null,
            "metadata": {},
            "outputs": [],
            "source": [
                "##Print session info:\n",
                "sessionInfo()\n"
            ]
        },
        {
            "cell_type": "markdown",
            "metadata": {},
            "source": [
                "\n",
                "## Last, we create a Jupyter notebook from this script\n"
            ]
        },
        {
            "cell_type": "code",
            "execution_count": null,
            "metadata": {},
            "outputs": [],
            "source": [
                "#Jupyter Notebook file\n",
                "if(!\"devtools\" %in% installed.packages()) BiocManager::install(\"devtools\")\n",
                "devtools::install_github(\"mkearney/rmd2jupyter\", force=TRUE)\n",
                "library(devtools)\n",
                "library(rmd2jupyter)\n",
                "#setwd(dirname(rstudioapi::getSourceEditorContext()$path))\n",
                "rmd2jupyter(\"Network_analysis.Rmd\")\n"
            ]
        }
    ],
    "metadata": {
        "anaconda-cloud": "",
        "kernelspec": {
            "display_name": "R",
            "langauge": "R",
            "name": "ir"
        },
        "language_info": {
            "codemirror_mode": "r",
            "file_extension": ".r",
            "mimetype": "text/x-r-source",
            "name": "R",
            "pygments_lexer": "r",
            "version": "3.4.1"
        }
    },
    "nbformat": 4,
    "nbformat_minor": 1
}
