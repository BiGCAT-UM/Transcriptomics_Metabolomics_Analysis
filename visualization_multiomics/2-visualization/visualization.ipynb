{
    "cells": [
        {
            "cell_type": "markdown",
            "metadata": {},
            "source": [
                "## Introduction\n",
                "In this script, visualization of enriched pathway which include both altered genes and metabolites is performed\n",
                "\n",
                "## Setup\n"
            ]
        },
        {
            "cell_type": "code",
            "execution_count": null,
            "metadata": {},
            "outputs": [],
            "source": [
                "# check if libraries are already installed > otherwise install it\n",
                "if (!requireNamespace(\"BiocManager\", quietly = TRUE)) install.packages(\"BiocManager\")\n",
                "if(!\"rstudioapi\" %in% installed.packages()) BiocManager::install(\"rstudioapi\")\n",
                "if(!\"RCy3\" %in% installed.packages()) BiocManager::install(\"RCy3\")\n",
                "if(!\"rWikiPathways\" %in% installed.packages()) BiocManager::install(\"rWikiPathways\")\n",
                "if(!\"RColorBrewer\" %in% installed.packages()) BiocManager::install(\"RColorBrewer\")\n",
                "\n",
                "#load libraries\n",
                "library(rstudioapi)\n",
                "library(RCy3)#connect cytoscape via R\n",
                "library(rWikiPathways)#to get pathways from WikiPathways\n",
                "library(RColorBrewer)#to manage colors with R\n",
                "\n",
                "# set your working environment to the location where your current source file is saved into.\n",
                "setwd(dirname(rstudioapi::getSourceEditorContext()$path))\n"
            ]
        },
        {
            "cell_type": "markdown",
            "metadata": {},
            "source": "\n"
        },
        {
            "cell_type": "code",
            "execution_count": null,
            "metadata": {},
            "outputs": [],
            "source": [
                "#make sure to launch cytoscape, if you get CyREST error you need to relaunch cytoscape\n",
                "cytoscapePing()\n",
                "#close all opened session before starting\n",
                "closeSession(FALSE)# close all opened sessions data without saving\n",
                "#pathway IDs\n",
                "pathway.id <- \"WP4723\"# omega-3/omega-6 fatty acid synthesis pathway is one of the enriched pathways in our study\n",
                "#so we will visualize the pathway in cytoscape\n",
                "\n",
                "##### STEP-1 Open enriched pathway #########\n",
                "#import pathways as network in cytoscape\n",
                "RCy3::commandsRun(paste0('wikipathways import-as-pathway id=',pathway.id )) \n",
                "#RCy3::commandsRun(paste0('wikipathways import-as-network id=',pathway.id )) \n"
            ]
        },
        {
            "cell_type": "markdown",
            "metadata": {},
            "source": "\n"
        },
        {
            "cell_type": "code",
            "execution_count": null,
            "metadata": {},
            "outputs": [],
            "source": [
                "#upload gene data table from the file\n",
                "geneData <- read.delim(\"data/transcriptomics\")\n",
                "#load data to the pathway in cytoscape\n",
                "loadTableData(table = \"node\", data = geneData, data.key.column = \"ENSEMBL.ID\", table.key.column = \"Ensembl\")\n",
                "#read mbx data\n",
                "mbxData <- read.delim(\"data/metabolomics\")\n",
                "#load mbx data to the pathway in cytoscape\n",
                "loadTableData(table = \"node\", data = mbxData, data.key.column = \"CHEBI\", table.key.column = \"ChEBI\")\n"
            ]
        },
        {
            "cell_type": "markdown",
            "metadata": {},
            "source": "\n"
        },
        {
            "cell_type": "code",
            "execution_count": null,
            "metadata": {},
            "outputs": [],
            "source": [
                "##new visual style created ##\n",
                "RCy3::copyVisualStyle(\"default\",\"pathwayStyle\")\n",
                "RCy3::setVisualStyle(\"pathwayStyle\")\n",
                "RCy3::lockNodeDimensions(TRUE, style.name=\"pathwayStyle\")\n",
                "\n",
                "#node shape mapping\n",
                "RCy3::setNodeShapeMapping('Type',c('Protein','GeneProduct','Metabolite'),c('ELLIPSE','ELLIPSE','RECTANGLE'),style.name=\"pathwayStyle\")\n",
                "#node height mapping\n",
                "RCy3::setNodeHeightMapping('Type',c('Protein','GeneProduct','Metabolite'), c(20,20,25), mapping.type = \"d\", style.name = \"pathwayStyle\")\n",
                "#change node sizes\n",
                "RCy3::setNodeSizeMapping('Type', c('Protein','GeneProduct','Metabolite'), c(30,30,40), mapping.type = \"d\", style.name = \"pathwayStyle\")\n",
                "#change node sizes\n",
                "RCy3::setNodeWidthMapping('Type', c('Protein','GeneProduct','Metabolite'), c(55,55,150), mapping.type = \"d\", style.name = \"pathwayStyle\")\n",
                "#set node color based on log2FC\n",
                "log2FCgenes = getTableColumns('node','log2FC_gene')  \n",
                "min.logFC = min(log2FCgenes[,1],na.rm=TRUE)\n",
                "max.logFC = max(log2FCgenes[,1],na.rm=TRUE)\n",
                "data.values = c(min.logFC,0,max.logFC)\n",
                "display.brewer.all(length(data.values), colorblindFriendly=TRUE, type=\"div\") # div,qual,seq,all\n",
                "node.colors <- c(rev(brewer.pal(length(data.values), \"RdBu\")))\n",
                "setNodeColorMapping('log2FC_gene', data.values, node.colors, style.name=\"pathwayStyle\", default = \"#D3D3D3\")\n",
                "#set node border based on p-value\n",
                "pvalues = getTableColumns('node','pvalue_gene')  \n",
                "min.pval = min(pvalues[,1],na.rm=TRUE)\n",
                "setNodeBorderWidthMapping('pvalue_gene', c(min.pval,0.05), c(5,1),style.name = \"pathwayStyle\")\n",
                "setNodeBorderColorMapping('pvalue_gene', c(min.pval,0.05), c('#00FF00','#00FF00'),style.name = \"pathwayStyle\")\n",
                "\n",
                "#color metabolite nodes byPass\n",
                "all.nodes = getTableColumns(columns = c(\"name\", \"data.type\"))  \n",
                "met.nodes <- na.omit(all.nodes[(all.nodes$data.type == \"metabolomics\"),])\n",
                "setNodeColorBypass(met.nodes[,1],\"#FD39B8\")\n",
                "\n",
                "#save image \n",
                "png.file <- file.path(getwd(), \"output/multi_omics_visualization.png\")\n",
                "exportImage(png.file,'PNG', zoom = 500)\n"
            ]
        },
        {
            "cell_type": "markdown",
            "metadata": {},
            "source": "\n"
        }
    ],
    "metadata": {
        "anaconda-cloud": "",
        "kernelspec": {
            "display_name": "R",
            "langauge": "R",
            "name": "ir"
        },
        "language_info": {
            "codemirror_mode": "r",
            "file_extension": ".r",
            "mimetype": "text/x-r-source",
            "name": "R",
            "pygments_lexer": "r",
            "version": "3.4.1"
        }
    },
    "nbformat": 4,
    "nbformat_minor": 1
}
