{
    "cells": [
        {
            "cell_type": "markdown",
            "metadata": {},
            "source": [
                "## Introduction\n",
                "In this script, visualization of the enriched pathway which include both altered genes and metabolites is performed.\n",
                "\n",
                "## Setup\n"
            ]
        },
        {
            "cell_type": "code",
            "execution_count": null,
            "metadata": {},
            "outputs": [],
            "source": [
                "# check if libraries are already installed > otherwise install it\n",
                "if (!requireNamespace(\"BiocManager\", quietly = TRUE)) install.packages(\"BiocManager\")\n",
                "if(!\"rstudioapi\" %in% installed.packages()) BiocManager::install(\"rstudioapi\")\n",
                "if(!\"RCy3\" %in% installed.packages()) BiocManager::install(\"RCy3\")\n",
                "if(!\"rWikiPathways\" %in% installed.packages()) BiocManager::install(\"rWikiPathways\")\n",
                "if(!\"RColorBrewer\" %in% installed.packages()) BiocManager::install(\"RColorBrewer\")\n",
                "if(!\"dplyr\" %in% installed.packages()) BiocManager::install(\"dplyr\")\n",
                "#load libraries\n",
                "library(rstudioapi)\n",
                "library(RCy3)#connect cytoscape via R\n",
                "library(rWikiPathways)#to get pathways from WikiPathways\n",
                "library(RColorBrewer)#to manage colors with R\n",
                "library(dplyr)\n",
                "# set your working environment to the location where your current source file is saved into.\n",
                "setwd(dirname(rstudioapi::getSourceEditorContext()$path))\n"
            ]
        },
        {
            "cell_type": "markdown",
            "metadata": {},
            "source": [
                "\n",
                "##Obtain transcriptomics and metabolomics data\n"
            ]
        },
        {
            "cell_type": "code",
            "execution_count": null,
            "metadata": {},
            "outputs": [],
            "source": [
                "setwd('../..')\n",
                "work_DIR <- getwd()\n",
                "\n",
                "#Set location to download data for transcriptomics:\n",
                "filelocation_t <- paste0(work_DIR, \"/transcriptomics_analysis/3-identifier_mapping/output/\")\n",
                "#Obtain data from step 3\n",
                "tSet_CD <- read.delim(paste0(filelocation_t, 'IDMapping_CD.tsv'), sep = \"\\t\", na.strings=c(\"\", \"NA\"))\n",
                "tSet_UC <- read.delim(paste0(filelocation_t, 'IDMapping_UC.tsv'), sep = \"\\t\", na.strings=c(\"\", \"NA\"))\n",
                "##Select the corresponding location to be visualized:\n",
                "location_transcriptomics <- \"ileum\" ##Options: ileum or rectum\n",
                "#filter out unused columns\n",
                "if(location_transcriptomics == \"ileum\"){\n",
                "tSet_CD <- na.omit(tSet_CD [,c(1,4:5)])\n",
                "tSet_UC <- na.omit(tSet_UC [,c(1,4:5)])}else if(location_transcriptomics == \"rectum\"){\n",
                "tSet_CD <- na.omit(tSet_CD [,c(1,6:7)])\n",
                "tSet_UC <- na.omit(tSet_UC [,c(1,6:7)])}else{print(\"Location for transcriptomics data not recognised.\")}\n",
                "\n",
                "#Rename columns for merger later\n",
                "colnames(tSet_CD) <- c('ID','log2FC','pvalues')\n",
                "colnames(tSet_UC) <- c('ID','log2FC','pvalues')\n",
                "\n",
                "#Set location to download data for metabolomics:\n",
                "filelocation_m <- paste0(work_DIR, \"/metabolomics_analysis/10-identifier_mapping/output/\")\n",
                "#Obtain data from step 10\n",
                "mSet_CD <- read.csv(paste0(filelocation_m, 'mbx_mapped_data_CD.tsv'), sep = \"\\t\", na.strings=c(\"\", \"NA\"))\n",
                "mSet_UC <- read.csv(paste0(filelocation_m, 'mbx_mapped_data_UC.tsv'), sep = \"\\t\", na.strings=c(\"\", \"NA\"))\n",
                "#filter out unused columns\n",
                "mSet_CD <- na.omit(mSet_CD [,c(2,4:5)])\n",
                "mSet_UC <- na.omit(mSet_UC [,c(2,4:5)])\n",
                "\n",
                "#Rename columns for merger later\n",
                "colnames(mSet_CD) <- c('ID','log2FC','pvalues')\n",
                "colnames(mSet_UC) <- c('ID','log2FC','pvalues')\n",
                "\n",
                "# Set Working Directory back to current folder\n",
                "setwd(dirname(rstudioapi::getSourceEditorContext()$path))\n",
                "work_DIR <- getwd()\n"
            ]
        },
        {
            "cell_type": "markdown",
            "metadata": {},
            "source": [
                "\n",
                "##Combine both dataframes\n"
            ]
        },
        {
            "cell_type": "code",
            "execution_count": null,
            "metadata": {},
            "outputs": [],
            "source": [
                "combined.data_CD <- rbind(tSet_CD, mSet_CD)\n",
                "combined.data_UC <- rbind(tSet_UC, mSet_UC)\n",
                "##Select disorder to visualize later on:\n",
                "disorder <- \"UC\" ##Options are: CD,UC\n",
                "if(disorder == \"CD\"){combined.data <- combined.data_CD}else if(disorder == \"UC\"){combined.data <- combined.data_UC}else{print(\"Disorder not recognized.\")}\n"
            ]
        },
        {
            "cell_type": "markdown",
            "metadata": {},
            "source": [
                "\n",
                "## Import pathway\n"
            ]
        },
        {
            "cell_type": "code",
            "execution_count": null,
            "metadata": {},
            "outputs": [],
            "source": [
                "#make sure to launch cytoscape, if you get CyREST error you need to relaunch cytoscape\n",
                "cytoscapePing()\n",
                "#close all opened session before starting\n",
                "closeSession(FALSE)\n",
                "#Set up WikiPathways app in Cytoscape, v.3.3.10\n",
                "if(\"WikiPathways\" %in% commandsHelp(\"\")) print(\"Success: the WikiPathways app is installed\") else print(\"Warning: WikiPathways app is not installed. Please install the WikiPathways app before proceeding.\")\n",
                "if(!\"WikiPathways\" %in% commandsHelp(\"\")) installApp(\"WikiPathways\")\n",
                "#pathway IDs to be visualized\n",
                "pathway.id <- \"WP4726\"# Sphingolipid metabolism: integrated pathway is a relevant and significantly altered pathways regarding metabolomics data.\n",
                "#import pathways as pathway in cytoscape\n",
                "RCy3::commandsRun(paste0('wikipathways import-as-pathway id=',pathway.id )) \n"
            ]
        },
        {
            "cell_type": "markdown",
            "metadata": {},
            "source": "## Data upload\n"
        },
        {
            "cell_type": "code",
            "execution_count": null,
            "metadata": {},
            "outputs": [],
            "source": [
                "#get node table from imported pathway in cytoscape\n",
                "ID.cols <- getTableColumns(table =\"node\", columns = c(\"XrefId\",\"Ensembl\", \"ChEBI\"))\n",
                "#filter out rows which contain NA value for columns Ensembl and ChEBI\n",
                "ID.cols <- ID.cols[!with(ID.cols, is.na(Ensembl) & is.na(ChEBI)),]\n",
                "#if a row value in the Ensembl column is NA then replace it with ChEBI  \n",
                "ID.cols$Ensembl <- ifelse(is.na(ID.cols$Ensembl), ID.cols$ChEBI, ID.cols$Ensembl)\n",
                "#use the only one column contains both Ensembl and ChEBI identifiers\n",
                "ID.cols <- data.frame(ID.cols[,c(1,2)])\n",
                "#change column name\n",
                "colnames(ID.cols)[2] <- \"omics.ID\"\n",
                "\n",
                "#merge two data frames for adding xrefid to the combined data frame\n",
                "data <- merge(combined.data, ID.cols, by.x = \"ID\", by.y = \"omics.ID\" )\n",
                "#remove duplicate rows\n",
                "data <- data %>% distinct(ID, .keep_all = TRUE)\n",
                "colnames(data)[1] <- \"omics.ID\"\n",
                "#load data to the imported pathway in cytoscape by key column as XrefId\n",
                "loadTableData(table = \"node\", data = data, data.key.column = \"XrefId\", table.key.column = \"XrefId\")\n"
            ]
        },
        {
            "cell_type": "markdown",
            "metadata": {},
            "source": [
                "\n",
                "## Visualization options\n"
            ]
        },
        {
            "cell_type": "code",
            "execution_count": null,
            "metadata": {},
            "outputs": [],
            "source": [
                "#new visual style is created\n",
                "RCy3::copyVisualStyle(\"default\",\"pathwayStyle\")\n",
                "#set new style as the current style\n",
                "RCy3::setVisualStyle(\"pathwayStyle\")\n",
                "#set node dimensions as fixed sizes\n",
                "RCy3::lockNodeDimensions(TRUE, style.name=\"pathwayStyle\")\n",
                "\n",
                "#node shape mapping\n",
                "RCy3::setNodeShapeMapping('Type',c('GeneProduct','Protein', 'Metabolite'),c('ELLIPSE','ELLIPSE','RECTANGLE'),style.name=\"pathwayStyle\")\n",
                "#change node height\n",
                "RCy3::setNodeHeightMapping('Type',c('GeneProduct','Protein', 'Metabolite'), c(23,23,25), mapping.type = \"d\", style.name = \"pathwayStyle\")\n",
                "#change node width\n",
                "RCy3::setNodeWidthMapping('Type',c('GeneProduct','Protein', 'Metabolite'), c(60,60,100), mapping.type = \"d\", style.name = \"pathwayStyle\")\n",
                "\n",
                "#set node color based on log2FC for both genes and metabolites\n",
                "node.colors <- c(rev(brewer.pal(3, \"RdBu\")))\n",
                "setNodeColorMapping(\"log2FC\", c(-1,0,1), node.colors, default.color = \"#D3D3D3\", style.name = \"pathwayStyle\")\n",
                "\n",
                "#Set node border width and color based on p-value\n",
                "#First we need to get all p-values from node table\n",
                "pvalues <- getTableColumns(table = 'node', columns = 'pvalues')\n",
                "pvalues <- na.omit(pvalues)\n",
                "#Create a range for all sign. p-values, and one for all not significant.\n",
                "significant_pvalues <- pvalues[(pvalues < 0.05)]\n",
                "not.significant_pvalues <- pvalues[(pvalues >= 0.05)]\n",
                "significant_pvalues.colors <- rep(\"#2e9d1d\", length(significant_pvalues))\n",
                "not.significant_pvalues.colors <- rep(\"#FFFFFF\", length(not.significant_pvalues))\n",
                "setNodeBorderWidthMapping('pvalues', table.column.values = NULL , c(6,6) , mapping.type = \"c\", style.name = \"pathwayStyle\")\n",
                "setNodeBorderColorMapping('pvalues', c(significant_pvalues,not.significant_pvalues), c(significant_pvalues.colors, not.significant_pvalues.colors), default.color = \"#AAAAAA\", mapping.type = \"d\", style.name = \"pathwayStyle\")\n",
                "\n",
                "#Save output \n",
                "filename_multiomics <- paste0(\"output/\", pathway.id, \"_\", disorder, \"_location_\", location_transcriptomics,\"_visualization.png\")\n",
                "png.file <- file.path(getwd(), filename_multiomics)\n",
                "exportImage(png.file, 'PNG', zoom = 500)\n"
            ]
        },
        {
            "cell_type": "markdown",
            "metadata": {},
            "source": [
                "\n",
                "## Creating jupyter files\n"
            ]
        },
        {
            "cell_type": "code",
            "execution_count": null,
            "metadata": {},
            "outputs": [],
            "source": [
                "#Jupyter Notebook file\n",
                "if(!\"devtools\" %in% installed.packages()) BiocManager::install(\"devtools\")\n",
                "devtools::install_github(\"mkearney/rmd2jupyter\", force=TRUE)\n",
                "library(devtools)\n",
                "library(rmd2jupyter)\n",
                "setwd(dirname(rstudioapi::getSourceEditorContext()$path))\n",
                "rmd2jupyter(\"visualization.Rmd\")\n"
            ]
        },
        {
            "cell_type": "markdown",
            "metadata": {},
            "source": [
                "\n",
                "\n"
            ]
        }
    ],
    "metadata": {
        "anaconda-cloud": "",
        "kernelspec": {
            "display_name": "R",
            "langauge": "R",
            "name": "ir"
        },
        "language_info": {
            "codemirror_mode": "r",
            "file_extension": ".r",
            "mimetype": "text/x-r-source",
            "name": "R",
            "pygments_lexer": "r",
            "version": "3.4.1"
        }
    },
    "nbformat": 4,
    "nbformat_minor": 1
}
