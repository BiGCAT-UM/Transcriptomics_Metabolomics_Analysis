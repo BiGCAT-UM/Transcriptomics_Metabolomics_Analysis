{
    "cells": [
        {
            "cell_type": "markdown",
            "metadata": {},
            "source": [
                "## Introduction\n",
                "In this script, to perform visualization of multi-omics data in CytoScape we need to prepare data to be imported in CytoScape\n",
                "To do so, gene and metabolites data are mapped to have ensembelIDs and ChEBI IDS and corresponding log2FC \n",
                "\n",
                "## Setup\n"
            ]
        },
        {
            "cell_type": "code",
            "execution_count": null,
            "metadata": {},
            "outputs": [],
            "source": [
                "# check if libraries are already installed > otherwise install it\n",
                "if (!requireNamespace(\"BiocManager\", quietly = TRUE)) install.packages(\"BiocManager\")\n",
                "if(!\"rstudioapi\" %in% installed.packages()) BiocManager::install(\"rstudioapi\")\n",
                "if(!\"dplyr\" %in% installed.packages()) BiocManager::install(\"dplyr\")\n",
                "if(!\"org.Hs.eg.db\" %in% installed.packages()) BiocManager::install(\"org.Hs.eg.db\")\n",
                "if(!\"BridgeDbR\" %in% installed.packages()) BiocManager::install(\"BridgeDbR\")\n",
                "install.packages('rJava')\n",
                " ## See https://www.r-bloggers.com/2018/02/installing-rjava-on-ubuntu/ if you have issues with this package on Ubuntu.\n",
                "\n",
                "#load libraries\n",
                "library(rstudioapi)\n",
                "library(dplyr)\n",
                "library(org.Hs.eg.db)\n",
                "library(BridgeDbR)\n",
                "library(rJava)\n",
                "\n",
                "# set your working environment to the location where your current source file is saved into.\n",
                "setwd(dirname(rstudioapi::getSourceEditorContext()$path))\n"
            ]
        },
        {
            "cell_type": "markdown",
            "metadata": {},
            "source": [
                "\n",
                "## Process gene data\n"
            ]
        },
        {
            "cell_type": "code",
            "execution_count": null,
            "metadata": {},
            "outputs": [],
            "source": [
                "#read data\n",
                "data <- read.csv(\"data/table_CD_Ileum_vs_nonIBD_Ileum.tab\", sep= \"\\t\")#input file may change depend on the analysis, different data in the data folder \n",
                "#filter out unused columns\n",
                "data <- data [,c(1,3,7)]\n",
                "\n",
                "#transform Gene Symbols to ensembl IDs\n",
                "#get ENSEMBL ids\n",
                "hs <- org.Hs.eg.db\n",
                "ensemblID <- AnnotationDbi::select(hs, \n",
                "            keys = data$X,\n",
                "            columns = c(\"ENSEMBL\", \"SYMBOL\"),\n",
                "            keytype = \"SYMBOL\")\n",
                "\n",
                "#filter out double gene symbols, because there are one-to-many relationship between symbol and ensembl IDs\n",
                "ensemblID <- ensemblID %>% distinct (ensemblID$SYMBOL, .keep_all = TRUE)\n",
                "#add ensemblIDs to the data\n",
                "data <- cbind(ensemblID$ENSEMBL,data)\n",
                "#change column names\n",
                "colnames(data) <- c(\"ENSEMBL.ID\",\"SYMBOL\", \"log2FC_gene\", \"pvalue_gene\")\n",
                "#filter out genes that has NA value for ensemblID\n",
                "data<- data %>% tidyr::drop_na(ENSEMBL.ID)\n",
                "#add type column\n",
                "data [\"data.type\"] <- \"transcriptomics\" \n",
                "#write data to file\n",
                "write.table(data, \"output/transcriptomics\",row.names = FALSE, quote = FALSE, sep=\"\\t\")\n"
            ]
        },
        {
            "cell_type": "markdown",
            "metadata": {},
            "source": "## Process metabolite data\n"
        },
        {
            "cell_type": "code",
            "execution_count": null,
            "metadata": {},
            "outputs": [],
            "source": [
                "#read data\n",
                "mbxData <- read.csv(\"data/mbxDataCD_nonIBD.csv\")\n",
                "#filter out unused columns\n",
                "mbxData <- mbxData [,c(1,3,4)]\n",
                "\n",
                "##Transform hmdb IDs to CHebi IDs\n",
                "##Download the Metabolite mapping file:\n",
                "fileUrl <- \"https://ndownloader.figshare.com/files/26001794?accessType=DOWNLOAD\"\n",
                "require(downloader)\n",
                "download(fileUrl, \"data/metabolites.bridge\", mode = \"wb\")\n",
                "\n",
                "mapper <- BridgeDbR ::loadDatabase('data/metabolites.bridge')\n",
                "\n",
                "## Obtain the System codes for the databases HMDB (source database of dataset) and ChEBI (intended output database)\n",
                "code = getOrganismCode(\"Homo sapiens\")\n",
                "code_mappingFrom <- getSystemCode(\"HMDB\")\n",
                "code_mappingTo   <- getSystemCode(\"ChEBI\")\n",
                "\n",
                "## Create a data frame with the mappings and the correct SystemCode\n",
                "input = data.frame(\n",
                "    source = rep(code_mappingFrom, length(mbxData$X)),\n",
                "    identifier = mbxData$X)\n",
                "#Obtain all mappings from HMDB to ChEBI\n",
                "MultiMappings = BridgeDbR::maps(mapper, input, code_mappingTo)\n",
                "#remove all rows in the mapped data which do not include the prefix \"CHEBI\"\n",
                "MultiMappings <- MultiMappings %>% filter(grepl(\"CHEBI\",mapping, fixed = TRUE))\n",
                "#filter out double identifiers because there are one-to-many relationship between hmdb and chebi IDs\n",
                "MultiMappings <- MultiMappings %>% distinct (MultiMappings$identifier, .keep_all = TRUE)\n",
                "MultiMappings <- MultiMappings [,c(2,4)]\n",
                "\n",
                "merged.data<- merge(MultiMappings, mbxData,by.x=\"identifier\", by.y=\"X\",sort = TRUE, all.x = TRUE, all.y = TRUE)\n",
                "#filter out metabolites that has NA value for CHEBI\n",
                "merged.data<- merged.data %>% tidyr::drop_na(mapping)\n",
                "#change column names\n",
                "colnames(merged.data) <- c(\"HMDBID\",\"CHEBI\", \"log2FC_met\", \"pvalue_met\")\n",
                "#add type column \n",
                "merged.data [\"data.type\"] <- \"metabolomics\" \n",
                "#write data to the file\n",
                "write.table(merged.data, \"output/metabolomics\",row.names = FALSE, quote = FALSE, sep=\"\\t\")\n"
            ]
        }
    ],
    "metadata": {
        "anaconda-cloud": "",
        "kernelspec": {
            "display_name": "R",
            "langauge": "R",
            "name": "ir"
        },
        "language_info": {
            "codemirror_mode": "r",
            "file_extension": ".r",
            "mimetype": "text/x-r-source",
            "name": "R",
            "pygments_lexer": "r",
            "version": "3.4.1"
        }
    },
    "nbformat": 4,
    "nbformat_minor": 1
}
