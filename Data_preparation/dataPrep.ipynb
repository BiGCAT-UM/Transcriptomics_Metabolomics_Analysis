{
    "cells": [
        {
            "cell_type": "markdown",
            "metadata": {},
            "source": [
                "## Introduction\n",
                "In this script, filtering options will be applied for transcriptomics data to be prepared for the analysis\n",
                "\n",
                "## Setup\n"
            ]
        },
        {
            "cell_type": "code",
            "execution_count": null,
            "metadata": {},
            "outputs": [],
            "source": [
                "# check if libraries are already installed > otherwise install it\n",
                "if(!requireNamespace(\"BiocManager\", quietly = TRUE)) install.packages(\"BiocManager\",repos = \"http://cran.us.r-project.org\")\n",
                "if(!\"rstudioapi\" %in% installed.packages()) BiocManager::install(\"rstudioapi\")\n",
                "if(!\"readxl\" %in% installed.packages()) BiocManager::install(\"readxl\")\n",
                "if(!\"dplyr\" %in% installed.packages()) BiocManager::install(\"dplyr\")\n",
                "\n",
                "library(rstudioapi)\n",
                "library(readxl)\n",
                "library(dplyr)\n",
                "\n",
                "# set your working environment to the location where your current source file is saved into.\n",
                "setwd(dirname(rstudioapi::getSourceEditorContext()$path))\n",
                "#you can check where your current working directory is\n",
                "#getwd()\n"
            ]
        },
        {
            "cell_type": "markdown",
            "metadata": {},
            "source": [
                "\n",
                "## Read and filter out metadata \n"
            ]
        },
        {
            "cell_type": "code",
            "execution_count": null,
            "metadata": {},
            "outputs": [],
            "source": [
                "#we first read metadata\n",
                "htxMeta <- read.csv(\"hmp2_metadata_2018-08-20.csv\")\n",
                "#filter out by data type as host-transcriptomics\n",
                "htxMeta <- htxMeta  %>% filter(htxMeta$data_type == \"host_transcriptomics\")\n",
                "\n",
                "#filter out data by biopsy location, we take CD, UC and nonIBD samples on ileum and  rectum \n",
                "htxMeta <-htxMeta  %>% filter(  (htxMeta$diagnosis == \"CD\" & htxMeta$biopsy_location==\"Ileum\") \n",
                "                                |  (htxMeta$diagnosis == \"CD\" & htxMeta$biopsy_location==\"Rectum\")\n",
                "                                |  (htxMeta$diagnosis == \"UC\" & htxMeta$biopsy_location==\"Ileum\") \n",
                "                                |  (htxMeta$diagnosis == \"UC\" & htxMeta$biopsy_location==\"Rectum\") \n",
                "                                |  (htxMeta$diagnosis == \"nonIBD\" & htxMeta$biopsy_location==\"Rectum\") \n",
                "                                |  (htxMeta$diagnosis == \"nonIBD\" & htxMeta$biopsy_location==\"Ileum\") \n",
                ")\n",
                "#filter out samples by visit_num=1\n",
                "htxMeta <-htxMeta  %>% filter(htxMeta$visit_num == \"1\")\n",
                "\n",
                "#filter out unused columns\n",
                "htxMeta <- htxMeta %>% select(External.ID,Participant.ID,biopsy_location,diagnosis )\n",
                "\n",
                "#we ordered htxMeta data based on external ID to match samples with htx count correctly\n",
                "htxMeta<- htxMeta[order(htxMeta$External.ID),]#order htxMeta by external ID\n"
            ]
        },
        {
            "cell_type": "markdown",
            "metadata": {},
            "source": [
                "\n",
                "# Filter out host transcriptomics (htx) count data based on sample names obtained from htx meta data\n"
            ]
        },
        {
            "cell_type": "code",
            "execution_count": null,
            "metadata": {},
            "outputs": [],
            "source": [
                "#transcript count (htx count) original file is read\n",
                "htxOrj <- read.csv(\"host_tx_counts.tsv\",sep = \"\\t\")\n",
                "\n",
                "#we should convert sample names to upper because some of them are in lower case\n",
                "colnames(htxOrj)<-toupper(colnames(htxOrj))\n",
                "\n",
                "#htx count data are filtered based on col names in htxMeta\n",
                "names.use <- names(htxOrj)[(names(htxOrj) %in% htxMeta$External.ID)]\n",
                "#filter out htxOrj based on names.use and create htxCount\n",
                "htxCount <- htxOrj[, names.use]\n",
                "#htxCount data are ordered based on column names to match samples between htxCount and sampleLabels\n",
                "htxCount <- htxCount[,order(names(htxCount))]\n",
                "#check whether they are in same order\n",
                "#colnames(htxCount) == htxMeta[,\"External.ID\"]\n",
                "\n",
                "#finally we write all the generated data into the related output files \n",
                "write.table(htxCount, \"output/htxCount\", sep=\"\\t\",quote=FALSE, row.names = TRUE )\n",
                "write.table(htxMeta, \"output/metaData\", sep=\"\\t\",quote=FALSE,row.names = FALSE, col.names = FALSE)\n"
            ]
        }
    ],
    "metadata": {
        "anaconda-cloud": "",
        "kernelspec": {
            "display_name": "R",
            "langauge": "R",
            "name": "ir"
        },
        "language_info": {
            "codemirror_mode": "r",
            "file_extension": ".r",
            "mimetype": "text/x-r-source",
            "name": "R",
            "pygments_lexer": "r",
            "version": "3.4.1"
        }
    },
    "nbformat": 4,
    "nbformat_minor": 1
}
