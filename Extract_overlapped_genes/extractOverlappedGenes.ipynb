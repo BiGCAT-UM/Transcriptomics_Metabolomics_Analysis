{
    "cells": [
        {
            "cell_type": "markdown",
            "metadata": {},
            "source": [
                "## Introduction\n",
                "In this workflow, extracting overlapped differential expressed genes between Chron`s disease and ulcerative colitis\n",
                "will be performed\n",
                "\n",
                "## R environment setup\n"
            ]
        },
        {
            "cell_type": "code",
            "execution_count": null,
            "metadata": {},
            "outputs": [],
            "source": [
                "# check if libraries are already installed > otherwise install it\n",
                "if (!requireNamespace(\"BiocManager\", quietly = TRUE)) install.packages(\"BiocManager\")\n",
                "if(!\"rstudioapi\" %in% installed.packages()) BiocManager::install(\"rstudioapi\")\n",
                "if(!\"org.Hs.eg.db\" %in% installed.packages()) BiocManager::install(\"org.Hs.eg.db\")  \n",
                "if(!\"dplyr\" %in% installed.packages()) BiocManager::install(\"dplyr\")\n",
                "\n",
                "#loading installed libraries\n",
                "library(rstudioapi) \n",
                "library(org.Hs.eg.db) \n",
                "library (dplyr)\n",
                "\n",
                "# set your working environment to the location where your current source file is saved into.\n",
                "setwd(dirname(rstudioapi::getSourceEditorContext()$path))\n"
            ]
        },
        {
            "cell_type": "markdown",
            "metadata": {},
            "source": [
                "## Importing dataset and filtering\n",
                "importing deg analysis results will be performed\n"
            ]
        },
        {
            "cell_type": "code",
            "execution_count": null,
            "metadata": {},
            "outputs": [],
            "source": [
                "#we will first perform process for ileum and then rectum \n",
                "#read dataset to be processed for ileum biopsy location\n",
                "dataset.CD <- read.delim(\"data/table_CD_Ileum_vs_nonIBD_Ileum.tab\")  \n",
                "dataset.UC <- read.delim(\"data/table_UC_Ileum_vs_nonIBD_Ileum.tab\")\n",
                "\n",
                "#read dataset for for rectum biopsy location\n",
                "dataset.CD <- read.delim(\"data/table_CD_Rectum_vs_nonIBD_Rectum.tab\")  \n",
                "dataset.UC <- read.delim(\"data/table_UC_Rectum_vs_nonIBD_Rectum.tab\")\n",
                "\n",
                "#filter out unused columns\n",
                "dataset.CD <- subset( dataset.CD, select = c(1,3,7) )\n",
                "dataset.UC <- subset( dataset.UC, select = c(1,3,7) )\n",
                "#change column name\n",
                "colnames(dataset.CD)[1] = \"gene_symbol\"\n",
                "colnames(dataset.UC)[1] = \"gene_symbol\"\n"
            ]
        },
        {
            "cell_type": "markdown",
            "metadata": {},
            "source": [
                "\n",
                "## Getting ENTREZ IDs gor gene symbols\n"
            ]
        },
        {
            "cell_type": "code",
            "execution_count": null,
            "metadata": {},
            "outputs": [],
            "source": [
                "hs <- org.Hs.eg.db\n",
                "entrezID <- AnnotationDbi::select(hs, \n",
                "                                  keys = dataset.CD$gene_symbol,\n",
                "                                  columns = c(\"ENTREZID\", \"SYMBOL\"),\n",
                "                                  keytype = \"SYMBOL\")\n",
                "#filter out double gene symbols\n",
                "entrezID<- entrezID %>% distinct(entrezID$SYMBOL, .keep_all = TRUE)\n",
                "\n",
                "# add entrezIDs to each dataset\n",
                "dataset.CD <- cbind(entrezID$ENTREZID,dataset.CD)\n",
                "dataset.UC <- cbind(entrezID$ENTREZID,dataset.UC)\n",
                "#change column names \n",
                "colnames(dataset.CD)[1] = \"ENTREZ.ID\"\n",
                "colnames(dataset.UC)[1] = \"ENTREZ.ID\"\n"
            ]
        },
        {
            "cell_type": "markdown",
            "metadata": {},
            "source": [
                "\n",
                "## Getting differential expressed genes for each disease\n"
            ]
        },
        {
            "cell_type": "code",
            "execution_count": null,
            "metadata": {},
            "outputs": [],
            "source": [
                "#list of all deg from CD\n",
                "deg.CD  <-unique(dataset.CD[!is.na(dataset.CD$pvalue) & dataset.CD$pvalue < 0.05 & abs(dataset.CD$log2FoldChange) > 0.58,])\n",
                "CD.up   <-unique(dataset.CD[!is.na(dataset.CD$pvalue) & dataset.CD$pvalue < 0.05 & dataset.CD$log2FoldChange > 0.58,])\n",
                "CD.down <-unique(dataset.CD[!is.na(dataset.CD$pvalue) & dataset.CD$pvalue < 0.05 & dataset.CD$log2FoldChange < -0.58,])\n",
                "#list of all deg from UC \n",
                "deg.UC  <-unique(dataset.UC[!is.na(dataset.UC$pvalue) & dataset.UC$pvalue < 0.05 & abs(dataset.UC$log2FoldChange) > 0.58,])\n",
                "UC.up   <-unique(dataset.UC[!is.na(dataset.UC$pvalue) & dataset.UC$pvalue < 0.05 & dataset.UC$log2FoldChange > 0.58,])\n",
                "UC.down <-unique(dataset.UC[!is.na(dataset.UC$pvalue) & dataset.UC$pvalue < 0.05 & dataset.UC$log2FoldChange < -0.58,])\n"
            ]
        },
        {
            "cell_type": "markdown",
            "metadata": {},
            "source": [
                "\n",
                "## Finding overlapped genes between diseases on ileum bioopsy location\n"
            ]
        },
        {
            "cell_type": "code",
            "execution_count": null,
            "metadata": {},
            "outputs": [],
            "source": [
                "######################################FOR ILEUM biopsy location#######################################\n",
                "# overlap genes between CD down and UC down\n",
                "overlap.genes1   <- CD.down [CD.down$gene_symbol %in% intersect(CD.down$gene_symbol,UC.down$gene_symbol), c(1:2)]\n",
                "CD.down.filtered <- CD.down [CD.down$gene_symbol %in% overlap.genes1$gene_symbol,]\n",
                "UC.down.filtered <- UC.down [UC.down$gene_symbol %in% overlap.genes1$gene_symbol,]\n",
                "merged.DEG.1 <- cbind (CD.down.filtered, UC.down.filtered)\n",
                "merged.DEG.1 <- merged.DEG.1 [,c(1,2,3,7)] \n",
                "colnames(merged.DEG.1) <- c (\"ENTREZ\", \"SYMBOL\", \"log2FC_CD\", \"log2FC_UC\")\n",
                "\n",
                "# overlap genes between CD up and UC down\n",
                "overlap.genes2 <- CD.up [CD.up$gene_symbol %in% intersect(CD.up$gene_symbol,UC.down$gene_symbol), c(1:3)]\n",
                "CD.up.filtered <- CD.up [CD.up$gene_symbol %in% overlap.genes2$gene_symbol,]\n",
                "UC.down.filtered <- UC.down [UC.down$gene_symbol %in% overlap.genes2$gene_symbol,]\n",
                "merged.DEG.2 <- cbind (CD.up.filtered, UC.down.filtered)\n",
                "merged.DEG.2 <- merged.DEG.2 [,c(1,2,3,7)] \n",
                "colnames(merged.DEG.2) <- c (\"ENTREZ\", \"SYMBOL\", \"log2FC_CD\", \"log2FC_UC\")\n",
                "\n",
                "# overlap genes between CD up and UC up\n",
                "overlap.genes3 <- CD.up [CD.up$gene_symbol %in% intersect(CD.up$gene_symbol,UC.up$gene_symbol), c(1,2)]\n",
                "CD.up.filtered <- CD.up [CD.up$gene_symbol %in% overlap.genes3$gene_symbol,]\n",
                "UC.up.filtered  <- UC.up [UC.up$gene_symbol %in% overlap.genes3$gene_symbol,]\n",
                "merged.DEG.3 <- cbind (CD.up.filtered , UC.up.filtered)\n",
                "merged.DEG.3 <- merged.DEG.3 [,c(1,2,3,7)] \n",
                "colnames(merged.DEG.3) <- c (\"ENTREZ\", \"SYMBOL\", \"log2FC_CD\", \"log2FC_UC\")\n",
                "\n",
                "#merge all DEG with corresponding logFC for each disease\n",
                "DEG.overlapped <- rbind(merged.DEG.1,merged.DEG.2, merged.DEG.3)\n",
                "if(!dir.exists(\"output\")) dir.create(\"output\")\n",
                "write.table(DEG.overlapped ,\"output/DEG.overlapped_ileum\",row.names=FALSE,col.names = TRUE,quote= FALSE, sep = \"\\t\")\n",
                "##############################################################################################\n"
            ]
        },
        {
            "cell_type": "markdown",
            "metadata": {},
            "source": [
                "\n",
                "## Finding overlapped genes between diseases on rectum bioopsy location\n"
            ]
        },
        {
            "cell_type": "code",
            "execution_count": null,
            "metadata": {},
            "outputs": [],
            "source": [
                "######################################FOR RECTUM biopsy location#######################################\n",
                "# overlap genes between CD down and UC down\n",
                "overlap.genes1   <- CD.down [CD.down$gene_symbol %in% intersect(CD.down$gene_symbol,UC.down$gene_symbol), c(1:2)]\n",
                "CD.down.filtered <- CD.down [CD.down$gene_symbol %in% overlap.genes1$gene_symbol,]\n",
                "UC.down.filtered <- UC.down [UC.down$gene_symbol %in% overlap.genes1$gene_symbol,]\n",
                "merged.DEG.1 <- cbind (CD.down.filtered, UC.down.filtered)\n",
                "merged.DEG.1 <- merged.DEG.1 [,c(1,2,3,7)] \n",
                "colnames(merged.DEG.1) <- c (\"ENTREZ\", \"SYMBOL\", \"log2FC_CD\", \"log2FC_UC\")\n",
                "\n",
                "# overlap genes between CD down and UC up\n",
                "overlap.genes2 <- CD.down [CD.down$gene_symbol %in% intersect(CD.down$gene_symbol,UC.up$gene_symbol), c(1:3)]\n",
                "CD.down.filtered <- CD.down [CD.down$gene_symbol %in% overlap.genes2$gene_symbol,]\n",
                "UC.up.filtered <- UC.up [UC.up$gene_symbol %in% overlap.genes2$gene_symbol,]\n",
                "merged.DEG.2 <- cbind (CD.down.filtered, UC.up.filtered)\n",
                "merged.DEG.2 <- merged.DEG.2 [,c(1,2,3,7)] \n",
                "colnames(merged.DEG.2) <- c (\"ENTREZ\", \"SYMBOL\", \"log2FC_CD\", \"log2FC_UC\")\n",
                "\n",
                "# overlap genes between CD up and UC up\n",
                "overlap.genes3 <- CD.up [CD.up$gene_symbol %in% intersect(CD.up$gene_symbol,UC.up$gene_symbol), c(1,2)]\n",
                "CD.up.filtered <- CD.up [CD.up$gene_symbol %in% overlap.genes3$gene_symbol,]\n",
                "UC.up.filtered  <- UC.up [UC.up$gene_symbol %in% overlap.genes3$gene_symbol,]\n",
                "merged.DEG.3 <- cbind (CD.up.filtered , UC.up.filtered)\n",
                "merged.DEG.3 <- merged.DEG.3 [,c(1,2,3,7)] \n",
                "colnames(merged.DEG.3) <- c (\"ENTREZ\", \"SYMBOL\", \"log2FC_CD\", \"log2FC_UC\")\n",
                "\n",
                "#merge all DEG with corresponding logFC for each disease\n",
                "DEG.overlapped <- rbind(merged.DEG.1,merged.DEG.2, merged.DEG.3)\n",
                "if(!dir.exists(\"output\")) dir.create(\"output\")\n",
                "write.table(DEG.overlapped ,\"output/DEG.overlapped_rectum\",row.names=FALSE,col.names = TRUE,quote= FALSE, sep = \"\\t\")\n",
                "##############################################################################################\n"
            ]
        },
        {
            "cell_type": "markdown",
            "metadata": {},
            "source": "\n"
        }
    ],
    "metadata": {
        "anaconda-cloud": "",
        "kernelspec": {
            "display_name": "R",
            "langauge": "R",
            "name": "ir"
        },
        "language_info": {
            "codemirror_mode": "r",
            "file_extension": ".r",
            "mimetype": "text/x-r-source",
            "name": "R",
            "pygments_lexer": "r",
            "version": "3.4.1"
        }
    },
    "nbformat": 4,
    "nbformat_minor": 1
}
